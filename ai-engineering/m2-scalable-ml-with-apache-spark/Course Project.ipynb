{
    "cells": [
        {
            "cell_type": "markdown",
            "metadata": {},
            "source": "# Course Project"
        },
        {
            "cell_type": "markdown",
            "metadata": {},
            "source": "Welcome to the final project of  \u201cApache Spark for Scalable Machine Learning on BigData\u201d. In this assignment you\u2019ll analyze a real-world dataset and apply machine learning on it using Apache Spark. \n\nIn order to pass, you need to implement some code (as described in the instruction section on Coursera) and finally answer a quiz on the Coursera platform.\n"
        },
        {
            "cell_type": "markdown",
            "metadata": {},
            "source": "This notebook is designed to run in a IBM Watson Studio default runtime (NOT the Watson Studio Apache Spark Runtime as the default runtime with 1 vCPU is free of charge). Therefore, we install Apache Spark in local mode for test purposes only. Please don't use it in production.\n\nIn case you are facing issues, please read the following two documents first:\n\nhttps://github.com/IBM/skillsnetwork/wiki/Environment-Setup\n\nhttps://github.com/IBM/skillsnetwork/wiki/FAQ\n\nThen, please feel free to ask:\n\nhttps://coursera.org/learn/machine-learning-big-data-apache-spark/discussions/all\n\nPlease make sure to follow the guidelines before asking a question:\n\nhttps://github.com/IBM/skillsnetwork/wiki/FAQ#im-feeling-lost-and-confused-please-help-me\n\n\nIf running outside Watson Studio, this should work as well. In case you are running in an Apache Spark context outside Watson Studio, please remove the Apache Spark setup in the first notebook cells."
        },
        {
            "cell_type": "code",
            "execution_count": 1,
            "metadata": {},
            "outputs": [],
            "source": "from IPython.display import Markdown, display\ndef printmd(string):\n    display(Markdown('# <span style=\"color:red\">'+string+'</span>'))\n\n\nif ('sc' in locals() or 'sc' in globals()):\n    printmd('<<<<<!!!!! It seems that you are running in a IBM Watson Studio Apache Spark Notebook. Please run it in an IBM Watson Studio Default Runtime (without Apache Spark) !!!!!>>>>>')\n"
        },
        {
            "cell_type": "code",
            "execution_count": 2,
            "metadata": {},
            "outputs": [
                {
                    "name": "stdout",
                    "output_type": "stream",
                    "text": "Requirement already satisfied: pyspark==2.4.5 in /opt/conda/envs/Python36/lib/python3.6/site-packages (2.4.5)\r\nRequirement already satisfied: py4j==0.10.7 in /opt/conda/envs/Python36/lib/python3.6/site-packages (from pyspark==2.4.5) (0.10.7)\r\n"
                }
            ],
            "source": "!pip install pyspark==2.4.5"
        },
        {
            "cell_type": "code",
            "execution_count": 3,
            "metadata": {},
            "outputs": [],
            "source": "try:\n    from pyspark import SparkContext, SparkConf\n    from pyspark.sql import SparkSession\nexcept ImportError as e:\n    printmd('<<<<<!!!!! Please restart your kernel after installing Apache Spark !!!!!>>>>>')"
        },
        {
            "cell_type": "code",
            "execution_count": 4,
            "metadata": {},
            "outputs": [],
            "source": "sc = SparkContext.getOrCreate(SparkConf().setMaster(\"local[*]\"))\n\nspark = SparkSession \\\n    .builder \\\n    .getOrCreate()"
        },
        {
            "cell_type": "markdown",
            "metadata": {},
            "source": "Let\u2019s start by downloading the dataset and creating a dataframe. This dataset can be found on DAX, the IBM Data Asset Exchange and can be downloaded for free.\n\nhttps://developer.ibm.com/exchanges/data/all/jfk-weather-data/"
        },
        {
            "cell_type": "code",
            "execution_count": 5,
            "metadata": {},
            "outputs": [
                {
                    "name": "stdout",
                    "output_type": "stream",
                    "text": "--2020-07-23 09:40:15--  http://max-training-data.s3-api.us-geo.objectstorage.softlayer.net/noaa-weather/jfk_weather.tar.gz\nResolving max-training-data.s3-api.us-geo.objectstorage.softlayer.net (max-training-data.s3-api.us-geo.objectstorage.softlayer.net)... 67.228.254.196\nConnecting to max-training-data.s3-api.us-geo.objectstorage.softlayer.net (max-training-data.s3-api.us-geo.objectstorage.softlayer.net)|67.228.254.196|:80... connected.\nHTTP request sent, awaiting response... 200 OK\nLength: 2575759 (2.5M) [application/x-tar]\nSaving to: \u2018jfk_weather.tar.gz\u2019\n\n100%[======================================>] 2,575,759   --.-K/s   in 0.04s   \n\n2020-07-23 09:40:15 (68.8 MB/s) - \u2018jfk_weather.tar.gz\u2019 saved [2575759/2575759]\n\n./._jfk_weather.csv\njfk_weather.csv\n"
                }
            ],
            "source": "# delete files from previous runs\n!rm -f jfk_weather*\n\n# download the file containing the data in CSV format\n!wget http://max-training-data.s3-api.us-geo.objectstorage.softlayer.net/noaa-weather/jfk_weather.tar.gz\n\n# extract the data\n!tar xvfz jfk_weather.tar.gz\n    \n# create a dataframe out of it by using the first row as field names and trying to infer a schema based on contents\ndf = spark.read.option(\"header\", \"true\").option(\"inferSchema\",\"true\").csv('jfk_weather.csv')\n\n# register a corresponding query table\ndf.createOrReplaceTempView('df')"
        },
        {
            "cell_type": "markdown",
            "metadata": {},
            "source": "The dataset contains some null values, therefore schema inference didn\u2019t work properly for all columns, in addition, a column contained trailing characters, so we need to clean up the data set first. This is a normal task in any data science project since your data is never clean, don\u2019t worry if you don\u2019t understand all code, you won\u2019t be asked about it. "
        },
        {
            "cell_type": "code",
            "execution_count": 6,
            "metadata": {},
            "outputs": [
                {
                    "name": "stdout",
                    "output_type": "stream",
                    "text": "root\n |-- STATION: string (nullable = true)\n |-- STATION_NAME: string (nullable = true)\n |-- ELEVATION: double (nullable = true)\n |-- LATITUDE: double (nullable = true)\n |-- LONGITUDE: double (nullable = true)\n |-- DATE: string (nullable = true)\n |-- REPORTTPYE: string (nullable = true)\n |-- HOURLYSKYCONDITIONS: string (nullable = true)\n |-- HOURLYVISIBILITY: string (nullable = true)\n |-- HOURLYPRSENTWEATHERTYPE: string (nullable = true)\n |-- HOURLYDRYBULBTEMPF: string (nullable = true)\n |-- HOURLYDRYBULBTEMPC: string (nullable = true)\n |-- HOURLYWETBULBTEMPF: string (nullable = true)\n |-- HOURLYWETBULBTEMPC: string (nullable = true)\n |-- HOURLYDewPointTempF: string (nullable = true)\n |-- HOURLYDewPointTempC: string (nullable = true)\n |-- HOURLYRelativeHumidity: string (nullable = true)\n |-- HOURLYWindSpeed: string (nullable = true)\n |-- HOURLYWindDirection: string (nullable = true)\n |-- HOURLYWindGustSpeed: integer (nullable = true)\n |-- HOURLYStationPressure: string (nullable = true)\n |-- HOURLYPressureTendency: integer (nullable = true)\n |-- HOURLYPressureChange: string (nullable = true)\n |-- HOURLYSeaLevelPressure: string (nullable = true)\n |-- HOURLYPrecip: string (nullable = true)\n |-- HOURLYAltimeterSetting: string (nullable = true)\n |-- DAILYMaximumDryBulbTemp: integer (nullable = true)\n |-- DAILYMinimumDryBulbTemp: integer (nullable = true)\n |-- DAILYAverageDryBulbTemp: integer (nullable = true)\n |-- DAILYDeptFromNormalAverageTemp: double (nullable = true)\n |-- DAILYAverageRelativeHumidity: integer (nullable = true)\n |-- DAILYAverageDewPointTemp: integer (nullable = true)\n |-- DAILYAverageWetBulbTemp: integer (nullable = true)\n |-- DAILYHeatingDegreeDays: integer (nullable = true)\n |-- DAILYCoolingDegreeDays: integer (nullable = true)\n |-- DAILYSunrise: integer (nullable = true)\n |-- DAILYSunset: integer (nullable = true)\n |-- DAILYWeather: string (nullable = true)\n |-- DAILYPrecip: string (nullable = true)\n |-- DAILYSnowfall: string (nullable = true)\n |-- DAILYSnowDepth: string (nullable = true)\n |-- DAILYAverageStationPressure: double (nullable = true)\n |-- DAILYAverageSeaLevelPressure: double (nullable = true)\n |-- DAILYAverageWindSpeed: double (nullable = true)\n |-- DAILYPeakWindSpeed: integer (nullable = true)\n |-- PeakWindDirection: integer (nullable = true)\n |-- DAILYSustainedWindSpeed: integer (nullable = true)\n |-- DAILYSustainedWindDirection: integer (nullable = true)\n |-- MonthlyMaximumTemp: double (nullable = true)\n |-- MonthlyMinimumTemp: double (nullable = true)\n |-- MonthlyMeanTemp: double (nullable = true)\n |-- MonthlyAverageRH: string (nullable = true)\n |-- MonthlyDewpointTemp: string (nullable = true)\n |-- MonthlyWetBulbTemp: string (nullable = true)\n |-- MonthlyAvgHeatingDegreeDays: integer (nullable = true)\n |-- MonthlyAvgCoolingDegreeDays: integer (nullable = true)\n |-- MonthlyStationPressure: double (nullable = true)\n |-- MonthlySeaLevelPressure: double (nullable = true)\n |-- MonthlyAverageWindSpeed: double (nullable = true)\n |-- MonthlyTotalSnowfall: string (nullable = true)\n |-- MonthlyDeptFromNormalMaximumTemp: double (nullable = true)\n |-- MonthlyDeptFromNormalMinimumTemp: double (nullable = true)\n |-- MonthlyDeptFromNormalAverageTemp: double (nullable = true)\n |-- MonthlyDeptFromNormalPrecip: string (nullable = true)\n |-- MonthlyTotalLiquidPrecip: string (nullable = true)\n |-- MonthlyGreatestPrecip: string (nullable = true)\n |-- MonthlyGreatestPrecipDate: string (nullable = true)\n |-- MonthlyGreatestSnowfall: string (nullable = true)\n |-- MonthlyGreatestSnowfallDate: string (nullable = true)\n |-- MonthlyGreatestSnowDepth: string (nullable = true)\n |-- MonthlyGreatestSnowDepthDate: integer (nullable = true)\n |-- MonthlyDaysWithGT90Temp: integer (nullable = true)\n |-- MonthlyDaysWithLT32Temp: integer (nullable = true)\n |-- MonthlyDaysWithGT32Temp: integer (nullable = true)\n |-- MonthlyDaysWithLT0Temp: integer (nullable = true)\n |-- MonthlyDaysWithGT001Precip: string (nullable = true)\n |-- MonthlyDaysWithGT010Precip: string (nullable = true)\n |-- MonthlyDaysWithGT1Snow: integer (nullable = true)\n |-- MonthlyMaxSeaLevelPressureValue: string (nullable = true)\n |-- MonthlyMaxSeaLevelPressureDate: integer (nullable = true)\n |-- MonthlyMaxSeaLevelPressureTime: integer (nullable = true)\n |-- MonthlyMinSeaLevelPressureValue: string (nullable = true)\n |-- MonthlyMinSeaLevelPressureDate: integer (nullable = true)\n |-- MonthlyMinSeaLevelPressureTime: integer (nullable = true)\n |-- MonthlyTotalHeatingDegreeDays: string (nullable = true)\n |-- MonthlyTotalCoolingDegreeDays: string (nullable = true)\n |-- MonthlyDeptFromNormalHeatingDD: string (nullable = true)\n |-- MonthlyDeptFromNormalCoolingDD: string (nullable = true)\n |-- MonthlyTotalSeasonToDateHeatingDD: integer (nullable = true)\n |-- MonthlyTotalSeasonToDateCoolingDD: integer (nullable = true)\n\n"
                }
            ],
            "source": "df.printSchema()"
        },
        {
            "cell_type": "code",
            "execution_count": 7,
            "metadata": {},
            "outputs": [],
            "source": "import random\nrandom.seed(42)\n\nfrom pyspark.sql.functions import translate, col\n\ndf_cleaned = df \\\n    .withColumn(\"HOURLYWindSpeed\", df.HOURLYWindSpeed.cast('double')) \\\n    .withColumn(\"HOURLYWindDirection\", df.HOURLYWindDirection.cast('double')) \\\n    .withColumn(\"HOURLYStationPressure\", translate(col(\"HOURLYStationPressure\"), \"s,\", \"\")) \\\n    .withColumn(\"HOURLYPrecip\", translate(col(\"HOURLYPrecip\"), \"s,\", \"\")) \\\n    .withColumn(\"HOURLYRelativeHumidity\", translate(col(\"HOURLYRelativeHumidity\"), \"*\", \"\")) \\\n    .withColumn(\"HOURLYDRYBULBTEMPC\", translate(col(\"HOURLYDRYBULBTEMPC\"), \"*\", \"\")) \\\n\ndf_cleaned =   df_cleaned \\\n                    .withColumn(\"HOURLYStationPressure\", df_cleaned.HOURLYStationPressure.cast('double')) \\\n                    .withColumn(\"HOURLYPrecip\", df_cleaned.HOURLYPrecip.cast('double')) \\\n                    .withColumn(\"HOURLYRelativeHumidity\", df_cleaned.HOURLYRelativeHumidity.cast('double')) \\\n                    .withColumn(\"HOURLYDRYBULBTEMPC\", df_cleaned.HOURLYDRYBULBTEMPC.cast('double')) \\\n\ndf_filtered = df_cleaned.filter(\"\"\"\n    HOURLYWindSpeed <> 0\n    and HOURLYWindSpeed IS NOT NULL\n    and HOURLYWindDirection IS NOT NULL\n    and HOURLYStationPressure IS NOT NULL\n    and HOURLYPressureTendency IS NOT NULL\n    and HOURLYPrecip IS NOT NULL\n    and HOURLYRelativeHumidity IS NOT NULL\n    and HOURLYDRYBULBTEMPC IS NOT NULL\n\"\"\")"
        },
        {
            "cell_type": "markdown",
            "metadata": {},
            "source": "We want to predict the value of one column based of some others. It is sometimes helpful to print a correlation matrix. "
        },
        {
            "cell_type": "code",
            "execution_count": 8,
            "metadata": {},
            "outputs": [
                {
                    "data": {
                        "text/plain": "array([[ 1.        ,  0.25478863, -0.26171147],\n       [ 0.25478863,  1.        , -0.13377466],\n       [-0.26171147, -0.13377466,  1.        ]])"
                    },
                    "execution_count": 8,
                    "metadata": {},
                    "output_type": "execute_result"
                }
            ],
            "source": "from pyspark.ml.feature import VectorAssembler\nvectorAssembler = VectorAssembler(inputCols=[\"HOURLYWindSpeed\",\"HOURLYWindDirection\",\"HOURLYStationPressure\"],\n                                  outputCol=\"features\")\ndf_pipeline = vectorAssembler.transform(df_filtered)\n\nfrom pyspark.ml.stat import Correlation\nCorrelation.corr(df_pipeline,\"features\").head()[0].toArray()"
        },
        {
            "cell_type": "code",
            "execution_count": 9,
            "metadata": {},
            "outputs": [
                {
                    "data": {
                        "text/plain": "array([[ 1.        , -0.01324305],\n       [-0.01324305,  1.        ]])"
                    },
                    "execution_count": 9,
                    "metadata": {},
                    "output_type": "execute_result"
                }
            ],
            "source": "vectorAssembler = VectorAssembler(inputCols=[\"HOURLYWindSpeed\",\"HOURLYPressureTendency\"], \n                                  outputCol=\"features\")\n\npipe = vectorAssembler.transform(df_filtered)\n\nCorrelation.corr(pipe, \"features\").head()[0].toArray()"
        },
        {
            "cell_type": "markdown",
            "metadata": {},
            "source": "As we can see, HOURLYWindSpeed and HOURLYWindDirection correlate with 0.25478863 whereas HOURLYWindSpeed  and HOURLYStationPressure correlate with -0.26171147, this is a good sign if we want to predict HOURLYWindSpeed from HOURLYWindDirection and HOURLYStationPressure. Note that the numbers can change over time as we are always working with the latest data.\nSince this is supervised learning, let\u2019s split our data into train (80%) and test (20%) set."
        },
        {
            "cell_type": "code",
            "execution_count": 10,
            "metadata": {},
            "outputs": [],
            "source": "splits = df_filtered.randomSplit([0.8, 0.2])\ndf_train = splits[0]\ndf_test = splits[1]"
        },
        {
            "cell_type": "markdown",
            "metadata": {},
            "source": "Again, we can re-use our feature engineering pipeline"
        },
        {
            "cell_type": "code",
            "execution_count": 11,
            "metadata": {},
            "outputs": [],
            "source": "from pyspark.ml.feature import StringIndexer, OneHotEncoder\nfrom pyspark.ml.linalg import Vectors\nfrom pyspark.ml.feature import VectorAssembler\nfrom pyspark.ml.feature import Normalizer\nfrom pyspark.ml import Pipeline\n\nvectorAssembler = VectorAssembler(inputCols=[\"HOURLYWindDirection\",\"ELEVATION\",\"HOURLYStationPressure\"],outputCol=\"features\")\nnormalizer = Normalizer(inputCol=\"features\", outputCol=\"features_norm\", p=1.0)"
        },
        {
            "cell_type": "markdown",
            "metadata": {},
            "source": "Now we define a function for evaluating our regression prediction performance. We\u2019re using RMSE (Root Mean Squared Error) here , the smaller the better\u2026\n\n"
        },
        {
            "cell_type": "code",
            "execution_count": 12,
            "metadata": {},
            "outputs": [],
            "source": "from pyspark.ml.evaluation import RegressionEvaluator\n\ndef regression_metrics(prediction):\n    evaluator = RegressionEvaluator(labelCol=\"HOURLYWindSpeed\", predictionCol=\"prediction\", metricName=\"rmse\")\n    rmse = evaluator.evaluate(prediction)\n    print(\"RMSE on test data = %g\" % rmse)"
        },
        {
            "cell_type": "markdown",
            "metadata": {},
            "source": "Let\u2019s run a linear regression model first for building a baseline.\n\n"
        },
        {
            "cell_type": "code",
            "execution_count": 13,
            "metadata": {},
            "outputs": [
                {
                    "name": "stdout",
                    "output_type": "stream",
                    "text": "RMSE on test data = 5.53835\n"
                }
            ],
            "source": "#LR1\n\nfrom pyspark.ml.regression import LinearRegression\n\n\nlr = LinearRegression(labelCol=\"HOURLYWindSpeed\", featuresCol='features_norm', maxIter=100, regParam=0.0, elasticNetParam=0.0)\npipeline = Pipeline(stages=[vectorAssembler, normalizer, lr])\nmodel = pipeline.fit(df_train)\nprediction = model.transform(df_test)\nregression_metrics(prediction)"
        },
        {
            "cell_type": "markdown",
            "metadata": {},
            "source": "Now we\u2019ll try a Gradient Boosted Tree Regressor"
        },
        {
            "cell_type": "code",
            "execution_count": 14,
            "metadata": {},
            "outputs": [
                {
                    "name": "stdout",
                    "output_type": "stream",
                    "text": "RMSE on test data = 5.12872\n"
                }
            ],
            "source": "#GBT1\n\nfrom pyspark.ml.regression import GBTRegressor\ngbt = GBTRegressor(labelCol=\"HOURLYWindSpeed\", maxIter=100)\npipeline = Pipeline(stages=[vectorAssembler, normalizer, gbt])\nmodel = pipeline.fit(df_train)\nprediction = model.transform(df_test)\nregression_metrics(prediction)"
        },
        {
            "cell_type": "markdown",
            "metadata": {},
            "source": "Now let\u2019s switch gears. Previously, we tried to predict HOURLYWindSpeed, but now we predict HOURLYWindDirection. In order to turn this into a classification problem we discretize the value using the Bucketizer. The new feature is called HOURLYWindDirectionBucketized."
        },
        {
            "cell_type": "code",
            "execution_count": 15,
            "metadata": {},
            "outputs": [],
            "source": "from pyspark.ml.feature import Bucketizer, OneHotEncoder\nbucketizer = Bucketizer(splits=[ 0, 180, float('Inf') ],inputCol=\"HOURLYWindDirection\", outputCol=\"HOURLYWindDirectionBucketized\")\nencoder = OneHotEncoder(inputCol=\"HOURLYWindDirectionBucketized\", outputCol=\"HOURLYWindDirectionOHE\")"
        },
        {
            "cell_type": "markdown",
            "metadata": {},
            "source": "Again, we define a function in order to assess how we perform. Here we just use the accuracy measure which gives us the fraction of correctly classified examples. Again, 0 is bad, 1 is good."
        },
        {
            "cell_type": "code",
            "execution_count": 16,
            "metadata": {},
            "outputs": [],
            "source": "from pyspark.ml.evaluation import MulticlassClassificationEvaluator\n\ndef classification_metrics(prediction):\n    mcEval = MulticlassClassificationEvaluator().setMetricName(\"accuracy\") .setPredictionCol(\"prediction\").setLabelCol(\"HOURLYWindDirectionBucketized\")\n    accuracy = mcEval.evaluate(prediction)\n    print(\"Accuracy on test data = %g\" % accuracy)"
        },
        {
            "cell_type": "markdown",
            "metadata": {},
            "source": "Again, for baselining we use LogisticRegression."
        },
        {
            "cell_type": "code",
            "execution_count": 17,
            "metadata": {},
            "outputs": [
                {
                    "name": "stdout",
                    "output_type": "stream",
                    "text": "Accuracy on test data = 0.692922\n"
                }
            ],
            "source": "#LGReg1\n\nfrom pyspark.ml.classification import LogisticRegression\nlr = LogisticRegression(labelCol=\"HOURLYWindDirectionBucketized\", maxIter=10)\n#,\"ELEVATION\",\"HOURLYStationPressure\",\"HOURLYPressureTendency\",\"HOURLYPrecip\"\n\nvectorAssembler = VectorAssembler(inputCols=[\"HOURLYWindSpeed\",\"HOURLYDRYBULBTEMPC\"], outputCol=\"features\")\n\npipeline = Pipeline(stages=[bucketizer,vectorAssembler,normalizer,lr])\nmodel = pipeline.fit(df_train)\nprediction = model.transform(df_test)\nclassification_metrics(prediction)"
        },
        {
            "cell_type": "markdown",
            "metadata": {},
            "source": "Let\u2019s try some other Algorithms and see if model performance increases. It\u2019s also important to tweak other parameters like parameters of individual algorithms (e.g. number of trees for RandomForest) or parameters in the feature engineering pipeline, e.g. train/test split ratio, normalization, bucketing, \u2026"
        },
        {
            "cell_type": "code",
            "execution_count": 18,
            "metadata": {},
            "outputs": [
                {
                    "name": "stdout",
                    "output_type": "stream",
                    "text": "Accuracy on test data = 0.71758\n"
                }
            ],
            "source": "#RF1\n\nfrom pyspark.ml.classification import RandomForestClassifier\nrf = RandomForestClassifier(labelCol=\"HOURLYWindDirectionBucketized\", numTrees=10)\n\nvectorAssembler = VectorAssembler(inputCols=[\"HOURLYWindSpeed\",\"HOURLYDRYBULBTEMPC\",\"ELEVATION\",\"HOURLYStationPressure\",\"HOURLYPressureTendency\",\"HOURLYPrecip\"],\n                                  outputCol=\"features\")\n\npipeline = Pipeline(stages=[bucketizer,vectorAssembler,normalizer,rf])\nmodel = pipeline.fit(df_train)\nprediction = model.transform(df_test)\nclassification_metrics(prediction)"
        },
        {
            "cell_type": "code",
            "execution_count": 19,
            "metadata": {},
            "outputs": [
                {
                    "name": "stdout",
                    "output_type": "stream",
                    "text": "Accuracy on test data = 0.73105\n"
                }
            ],
            "source": "#GBT2\n\nfrom pyspark.ml.classification import GBTClassifier\ngbt = GBTClassifier(labelCol=\"HOURLYWindDirectionBucketized\", maxIter=100)\n\nvectorAssembler = VectorAssembler(inputCols=[\"HOURLYWindSpeed\",\"HOURLYDRYBULBTEMPC\",\"ELEVATION\",\"HOURLYStationPressure\",\"HOURLYPressureTendency\",\"HOURLYPrecip\"],\n                                  outputCol=\"features\")\n\npipeline = Pipeline(stages=[bucketizer,vectorAssembler,normalizer,gbt])\nmodel = pipeline.fit(df_train)\nprediction = model.transform(df_test)\nclassification_metrics(prediction)"
        },
        {
            "cell_type": "code",
            "execution_count": null,
            "metadata": {},
            "outputs": [],
            "source": ""
        }
    ],
    "metadata": {
        "kernelspec": {
            "display_name": "Python 3.6",
            "language": "python",
            "name": "python3"
        },
        "language_info": {
            "codemirror_mode": {
                "name": "ipython",
                "version": 3
            },
            "file_extension": ".py",
            "mimetype": "text/x-python",
            "name": "python",
            "nbconvert_exporter": "python",
            "pygments_lexer": "ipython3",
            "version": "3.6.9"
        }
    },
    "nbformat": 4,
    "nbformat_minor": 1
}