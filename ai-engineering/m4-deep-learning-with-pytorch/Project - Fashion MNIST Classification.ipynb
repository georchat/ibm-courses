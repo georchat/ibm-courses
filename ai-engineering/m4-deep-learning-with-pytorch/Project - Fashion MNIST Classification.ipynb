{
    "cells": [
        {
            "cell_type": "markdown",
            "metadata": {},
            "source": "<a href=\"https://cocl.us/DL0320EN_TOP_IMAGE\">\n    <img src=\"https://s3-api.us-geo.objectstorage.softlayer.net/cf-courses-data/CognitiveClass/DL0320EN/Assets/Images/Top.png\" width=\"750\" alt=\"IBM 10TB Storage\" />\n</a>"
        },
        {
            "cell_type": "markdown",
            "metadata": {},
            "source": "<h1>Fashion-MNIST Project </h1>"
        },
        {
            "cell_type": "markdown",
            "metadata": {},
            "source": "<h2>Table of Contents</h2>"
        },
        {
            "cell_type": "markdown",
            "metadata": {},
            "source": "<p>In this project, you will classify  Fashion-MNIST dataset using convolutional neural networks.</p>\n<ul>\n  \n<ul>\n<li><a href=\"#Preparation\">Preparation</a></li>\n<li><a href=\"#Q1\">Questions 1: Create a Dataset Class</li>\n<li><a href=\"#Train\">Define Softmax, Criterion function, Optimizer and Train the Model</a></li>\n\n</ul>\n \n\n</ul>\n\n<p>Estimated Time Needed: <b>30 min</b></p>\n<hr>"
        },
        {
            "cell_type": "markdown",
            "metadata": {},
            "source": "<h2 id=\"Preparation\" >Preparation</h2>"
        },
        {
            "cell_type": "markdown",
            "metadata": {},
            "source": "Download the datasets you needed for this lab."
        },
        {
            "cell_type": "markdown",
            "metadata": {},
            "source": "The following are the PyTorch modules you are going to need"
        },
        {
            "cell_type": "code",
            "execution_count": 1,
            "metadata": {
                "scrolled": false
            },
            "outputs": [
                {
                    "name": "stdout",
                    "output_type": "stream",
                    "text": "Requirement already satisfied: torch in /opt/conda/envs/Python36/lib/python3.6/site-packages (1.6.0)\nRequirement already satisfied: future in /opt/conda/envs/Python36/lib/python3.6/site-packages (from torch) (0.17.1)\nRequirement already satisfied: numpy in /opt/conda/envs/Python36/lib/python3.6/site-packages (from torch) (1.15.4)\nRequirement already satisfied: torchvision in /opt/conda/envs/Python36/lib/python3.6/site-packages (0.7.0)\nRequirement already satisfied: numpy in /opt/conda/envs/Python36/lib/python3.6/site-packages (from torchvision) (1.15.4)\nRequirement already satisfied: pillow>=4.1.1 in /opt/conda/envs/Python36/lib/python3.6/site-packages (from torchvision) (5.4.1)\nRequirement already satisfied: torch==1.6.0 in /opt/conda/envs/Python36/lib/python3.6/site-packages (from torchvision) (1.6.0)\nRequirement already satisfied: future in /opt/conda/envs/Python36/lib/python3.6/site-packages (from torch==1.6.0->torchvision) (0.17.1)\n"
                }
            ],
            "source": "!pip install torch\n!pip install torchvision"
        },
        {
            "cell_type": "code",
            "execution_count": 2,
            "metadata": {},
            "outputs": [
                {
                    "data": {
                        "text/plain": "<torch._C.Generator at 0x7f7da4071288>"
                    },
                    "execution_count": 2,
                    "metadata": {},
                    "output_type": "execute_result"
                }
            ],
            "source": "# PyTorch Modules you need for this lab\n\nfrom torch.utils.data import Dataset, DataLoader\nfrom torchvision import transforms\nimport torch \nimport torch.nn as nn\nimport torchvision.transforms as transforms\nimport torchvision.datasets as dsets\ntorch.manual_seed(0)"
        },
        {
            "cell_type": "markdown",
            "metadata": {},
            "source": "Import Non-PyTorch Modules "
        },
        {
            "cell_type": "code",
            "execution_count": 3,
            "metadata": {},
            "outputs": [],
            "source": "# Other non-PyTorch Modules\n\nfrom matplotlib.pyplot import imshow\nimport matplotlib.pylab as plt\n\nfrom PIL import Image"
        },
        {
            "cell_type": "code",
            "execution_count": 4,
            "metadata": {},
            "outputs": [],
            "source": "def show_data(data_sample):\n    plt.imshow(data_sample[0].numpy().reshape(IMAGE_SIZE, IMAGE_SIZE), cmap='gray')\n    plt.title('y = '+ str(data_sample[1]))"
        },
        {
            "cell_type": "markdown",
            "metadata": {},
            "source": "<hr>"
        },
        {
            "cell_type": "markdown",
            "metadata": {},
            "source": "<h2 id=\"Questions 1\">Questions 1: Create a Dataset Class</h2>"
        },
        {
            "cell_type": "markdown",
            "metadata": {},
            "source": "In this section, you will load a Dataset object, but first you must transform the dataset. Use the <code>Compose</code> function to perform the following transforms:. \n<ol>\n    <li>use the transforms object to<code> Resize </code> to resize the image.</li>\n    <li>use the transforms object to<code> ToTensor </code> to convert the image to a tensor.</li>\n</ol>\n\nYou will then take a screen shot of your validation data."
        },
        {
            "cell_type": "markdown",
            "metadata": {},
            "source": "Use the compose function to compose the dataset"
        },
        {
            "cell_type": "code",
            "execution_count": 5,
            "metadata": {},
            "outputs": [],
            "source": "IMAGE_SIZE = 16\ntransforms.Resize((IMAGE_SIZE, IMAGE_SIZE)),\ntransforms.ToTensor()#\ncomposed = transforms.Compose([transforms.Resize((IMAGE_SIZE, IMAGE_SIZE)), transforms.ToTensor()])"
        },
        {
            "cell_type": "markdown",
            "metadata": {},
            "source": "<hr>"
        },
        {
            "cell_type": "markdown",
            "metadata": {},
            "source": "Create two dataset objects for the Fashion MNIST  dataset. One for training data called <code> dataset_train </code> and one for validation data <code>dataset_val</code>. You will be asked to take a screenshot of several samples."
        },
        {
            "cell_type": "markdown",
            "metadata": {},
            "source": "<b>Hint:</b>\n<code>dsets.FashionMNIST(root= '.fashion/data', train=???, transform=composed,  download=True)</code>"
        },
        {
            "cell_type": "code",
            "execution_count": 6,
            "metadata": {},
            "outputs": [],
            "source": "dataset_train = dsets.FashionMNIST(root= '.fashion/data', train=True, transform=composed,  download=True)\ndataset_valid = dsets.FashionMNIST(root= '.fashion/data', train=False, transform=composed,  download=True)"
        },
        {
            "cell_type": "code",
            "execution_count": 7,
            "metadata": {},
            "outputs": [
                {
                    "data": {
                        "image/png": "[encoded data removed]",
                        "text/plain": "<Figure size 432x288 with 1 Axes>"
                    },
                    "metadata": {
                        "needs_background": "light"
                    },
                    "output_type": "display_data"
                },
                {
                    "data": {
                        "image/png": "[encoded data removed]",
                        "text/plain": "<Figure size 432x288 with 1 Axes>"
                    },
                    "metadata": {
                        "needs_background": "light"
                    },
                    "output_type": "display_data"
                },
                {
                    "data": {
                        "image/png": "[encoded data removed]",
                        "text/plain": "<Figure size 432x288 with 1 Axes>"
                    },
                    "metadata": {
                        "needs_background": "light"
                    },
                    "output_type": "display_data"
                }
            ],
            "source": "for n,data_sample in enumerate(dataset_valid):\n    show_data(data_sample)\n    plt.show()\n    if n==2:\n        break "
        },
        {
            "cell_type": "markdown",
            "metadata": {},
            "source": "<h2 id=\"Q2\">Questions 2</h2>\nCreate a Convolutional Neural Network class using ONE of the following constructors.  Train the network using the provided code then provide a screenshot of your training cost and accuracy with your validation data."
        },
        {
            "cell_type": "markdown",
            "metadata": {},
            "source": "Constructor  using Batch Norm "
        },
        {
            "cell_type": "code",
            "execution_count": 8,
            "metadata": {},
            "outputs": [],
            "source": "class CNN_batch(nn.Module):\n    \n    # Contructor\n    def __init__(self, out_1=16, out_2=32,number_of_classes=10):\n        super(CNN_batch, self).__init__()\n        self.cnn1 = nn.Conv2d(in_channels=1, out_channels=out_1, kernel_size=5, padding=2)\n        self.conv1_bn = nn.BatchNorm2d(out_1)\n\n        self.maxpool1=nn.MaxPool2d(kernel_size=2)\n        \n        self.cnn2 = nn.Conv2d(in_channels=out_1, out_channels=out_2, kernel_size=5, stride=1, padding=2)\n        self.conv2_bn = nn.BatchNorm2d(out_2)\n\n        self.maxpool2=nn.MaxPool2d(kernel_size=2)\n        self.fc1 = nn.Linear(out_2 * 4 * 4, number_of_classes)\n        self.bn_fc1 = nn.BatchNorm1d(10)\n    \n    # Prediction\n    def forward(self, x):\n        x = self.cnn1(x)\n        x=self.conv1_bn(x)\n        x = torch.relu(x)\n        x = self.maxpool1(x)\n        x = self.cnn2(x)\n        x=self.conv2_bn(x)\n        x = torch.relu(x)\n        x = self.maxpool2(x)\n        x = x.view(x.size(0), -1)\n        x = self.fc1(x)\n        x=self.bn_fc1(x)\n        return x"
        },
        {
            "cell_type": "markdown",
            "metadata": {},
            "source": "Constructor  for regular Convolutional Neural Network"
        },
        {
            "cell_type": "code",
            "execution_count": 9,
            "metadata": {},
            "outputs": [],
            "source": "class CNN(nn.Module):\n    \n    # Contructor\n    def __init__(self, out_1=16, out_2=32,number_of_classes=10):\n        super(CNN, self).__init__()\n        self.cnn1 = nn.Conv2d(in_channels=1, out_channels=out_1, kernel_size=5, padding=2)\n        self.maxpool1=nn.MaxPool2d(kernel_size=2)\n\n        self.cnn2 = nn.Conv2d(in_channels=out_1, out_channels=out_2, kernel_size=5, stride=1, padding=2)\n        self.maxpool2=nn.MaxPool2d(kernel_size=2)\n        self.fc1 = nn.Linear(out_2 * 4 * 4, number_of_classes)\n    \n    # Prediction\n    def forward(self, x):\n        x = self.cnn1(x)\n        x = torch.relu(x)\n        x = self.maxpool1(x)\n        x = self.cnn2(x)\n        x = torch.relu(x)\n        x = self.maxpool2(x)\n        x = x.view(x.size(0), -1)\n        x = self.fc1(x)\n        return x"
        },
        {
            "cell_type": "markdown",
            "metadata": {},
            "source": "train loader  and validation loader "
        },
        {
            "cell_type": "code",
            "execution_count": 10,
            "metadata": {},
            "outputs": [],
            "source": "train_loader = torch.utils.data.DataLoader(dataset=dataset_train, batch_size=100)\ntest_loader = torch.utils.data.DataLoader(dataset=dataset_valid, batch_size=100)"
        },
        {
            "cell_type": "markdown",
            "metadata": {},
            "source": "Convolutional Neural Network object "
        },
        {
            "cell_type": "code",
            "execution_count": 11,
            "metadata": {},
            "outputs": [],
            "source": "#model = CNN(out_1=16, out_2=32,number_of_classes=10)\nmodel =CNN_batch(out_1=16, out_2=32, number_of_classes=10)"
        },
        {
            "cell_type": "markdown",
            "metadata": {},
            "source": "Create the objects for the criterion and the optimizer named <code>criterion</code> and <code>optimizer</code>. Make the optimizer use SGD with a learning rate of 0.1 and the optimizer use Cross Entropy Loss"
        },
        {
            "cell_type": "code",
            "execution_count": 12,
            "metadata": {},
            "outputs": [],
            "source": "criterion = nn.CrossEntropyLoss()\nlearning_rate = 0.01\noptimizer = torch.optim.SGD(model.parameters(), lr = learning_rate)"
        },
        {
            "cell_type": "markdown",
            "metadata": {},
            "source": "Code used to train the model "
        },
        {
            "cell_type": "code",
            "execution_count": 13,
            "metadata": {},
            "outputs": [
                {
                    "name": "stdout",
                    "output_type": "stream",
                    "text": "epoch 0, training set cost 419.1677488386631, validation set accuracy 0.8516\nepoch 1, training set cost 294.62549209594727, validation set accuracy 0.8598\nepoch 2, training set cost 252.61518535017967, validation set accuracy 0.8673\nepoch 3, training set cost 228.48998096585274, validation set accuracy 0.8714\nepoch 4, training set cost 211.89694646000862, validation set accuracy 0.8756\nepoch 5, training set cost 199.99573457241058, validation set accuracy 0.8769\n"
                }
            ],
            "source": "import time\nstart_time = time.time()\n\ncost_list=[]\naccuracy_list=[]\nN_test=len(dataset_valid)\n\nn_epochs=6\nfor epoch in range(n_epochs):\n    ## training\n    model.train()\n    cost=0\n    for x, y in train_loader:\n        optimizer.zero_grad()\n        z = model(x)\n        loss = criterion(z, y)\n        loss.backward()\n        optimizer.step()\n        cost+=loss.item()\n        \n    ## evaluation on the validation  data \n    model.eval()\n    correct=0\n    for x_test, y_test in test_loader:\n        z = model(x_test)\n        _, yhat = torch.max(z.data, 1)\n        correct += (yhat == y_test).sum().item()\n    accuracy = correct / N_test\n    accuracy_list.append(accuracy)\n    cost_list.append(cost)\n    \n    print(\"epoch {}, training set cost {}, validation set accuracy {}\".format(epoch, cost, accuracy))"
        },
        {
            "cell_type": "markdown",
            "metadata": {},
            "source": "You will use the following to plot the Cost and accuracy for each epoch for the training and testing data, respectively. "
        },
        {
            "cell_type": "code",
            "execution_count": 14,
            "metadata": {},
            "outputs": [
                {
                    "data": {
                        "image/png": "[encoded data removed]",
                        "text/plain": "<Figure size 432x288 with 2 Axes>"
                    },
                    "metadata": {
                        "needs_background": "light"
                    },
                    "output_type": "display_data"
                }
            ],
            "source": "fig, ax1 = plt.subplots()\ncolor = 'tab:red'\nax1.plot(cost_list, color=color)\nax1.set_xlabel('epoch', color=color)\nax1.set_ylabel('Cost', color=color)\nax1.tick_params(axis='y', color=color)\n    \nax2 = ax1.twinx()  \ncolor = 'tab:blue'\nax2.set_ylabel('accuracy', color=color) \nax2.set_xlabel('epoch', color=color)\nax2.plot( accuracy_list, color=color)\nax2.tick_params(axis='y', color=color)\nfig.tight_layout()"
        },
        {
            "cell_type": "markdown",
            "metadata": {},
            "source": "dataset: https://github.com/zalandoresearch/fashion-mnist"
        },
        {
            "cell_type": "markdown",
            "metadata": {},
            "source": "<h2>About the Authors:</h2> \n\n<a href=\"https://www.linkedin.com/in/joseph-s-50398b136/\">Joseph Santarcangelo</a> has a PhD in Electrical Engineering, his research focused on using machine learning, signal processing, and computer vision to determine how videos impact human cognition. Joseph has been working for IBM since he completed his PhD."
        },
        {
            "cell_type": "markdown",
            "metadata": {},
            "source": "Other contributors: <a href=\"https://www.linkedin.com/in/michelleccarey/\">Michelle Carey</a>, <a href=\"www.linkedin.com/in/jiahui-mavis-zhou-a4537814a\">Mavis Zhou</a> "
        },
        {
            "cell_type": "markdown",
            "metadata": {},
            "source": "<hr>"
        },
        {
            "cell_type": "markdown",
            "metadata": {},
            "source": "Copyright &copy; 2018 <a href=\"cognitiveclass.ai?utm_source=bducopyrightlink&utm_medium=dswb&utm_campaign=bdu\">cognitiveclass.ai</a>. This notebook and its source code are released under the terms of the <a href=\"https://bigdatauniversity.com/mit-license/\">MIT License</a>."
        }
    ],
    "metadata": {
        "kernelspec": {
            "display_name": "Python 3.6",
            "language": "python",
            "name": "python3"
        },
        "language_info": {
            "codemirror_mode": {
                "name": "ipython",
                "version": 3
            },
            "file_extension": ".py",
            "mimetype": "text/x-python",
            "name": "python",
            "nbconvert_exporter": "python",
            "pygments_lexer": "ipython3",
            "version": "3.6.9"
        }
    },
    "nbformat": 4,
    "nbformat_minor": 4
}