{
    "cells": [
        {
            "cell_type": "markdown",
            "metadata": {
                "slideshow": {
                    "slide_type": "-"
                }
            },
            "source": "# Spark introduction\n<br></br>\n<center>\n<img src=\"../images/ibm-logo-bw.png\" alt=\"ibm-logo\" align=\"center\" style=\"width: 200px;\"/>\n</center>"
        },
        {
            "cell_type": "code",
            "execution_count": 1,
            "metadata": {
                "slideshow": {
                    "slide_type": "skip"
                }
            },
            "outputs": [
                {
                    "name": "stdout",
                    "output_type": "stream",
                    "text": "Waiting for a Spark session to start...\nSpark Initialization Done! ApplicationId = app-20200422060454-0000\nKERNEL_ID = 5551f9c1-31b1-48fa-97bd-1a0c03bfa79f\n"
                }
            ],
            "source": "import re\nimport os\nfrom collections import Counter\nimport numpy as np\nimport pandas as pd\nfrom termcolor import cprint\nimport matplotlib.pyplot as plt\n\nplt.style.use('seaborn')\n%matplotlib inline\n\nSMALL_SIZE = 10\nMEDIUM_SIZE = 11\nLARGE_SIZE = 12\n\nplt.rc('font', size=SMALL_SIZE)          # controls default text sizes\nplt.rc('axes', titlesize=SMALL_SIZE)     # fontsize of the axes title\nplt.rc('axes', labelsize=MEDIUM_SIZE)    # fontsize of the x and y labels\nplt.rc('xtick', labelsize=SMALL_SIZE)    # fontsize of the tick labels\nplt.rc('ytick', labelsize=SMALL_SIZE)    # fontsize of the tick labels\nplt.rc('legend', fontsize=SMALL_SIZE)    # legend fontsize\nplt.rc('figure', titlesize=LARGE_SIZE)   # fontsize of the figure title\n\ndef slide_print(text, color='white'):\n    cprint(text, color, 'on_grey')"
        },
        {
            "cell_type": "markdown",
            "metadata": {
                "slideshow": {
                    "slide_type": "notes"
                }
            },
            "source": "Sometimes a single machine simple cannot perform a given task fast enough.  Sometimes there are too many tasks for a single machine to properly handle and yet othertimes there are so much data that the data must be distributed across resources.  These scenarios describe several of the situations where the use of Apache Spark has the potential to directly impact a business opportunity.  Whether you are working with spark locally, on Watson Studio, from within Docker or as part of a computer cluster the basics will cover in this video will still apply."
        },
        {
            "cell_type": "markdown",
            "metadata": {
                "slideshow": {
                    "slide_type": "slide"
                }
            },
            "source": "## High performance computing\n\n* <span style=\"color:orange\">Symmetric multiprocessing</span> -Two or more identical processors connected to a single unit of memory.\n* <span style=\"color:orange\">Distributed computing</span> - Processing elements are connected by a network.\n* <span style=\"color:orange\">Cluster computing</span> - Group of coupled computers that work together in a way that they can be viewed as a single system.\n* <span style=\"color:orange\">Massive parallel processing</span> - Many networked processors usually > 100 used to perform computations in parallel.\n* <span style=\"color:orange\">Grid computing</span> - Distributed computing making use of a middle layer to create a `virtual super computer`.\n\n> Spark is a cluster-computing framework. When you compare it to hadoop it essentially competes with which the MapReduce component of the Hadoop ecosystem."
        },
        {
            "cell_type": "markdown",
            "metadata": {
                "slideshow": {
                    "slide_type": "notes"
                }
            },
            "source": "There are many types of high performance computing environments.  READ STATEMENT.  Spark does not have its own distributed filesystem, but can use the Hadoop Distributed File System or HDFS.  Spark uses memory and can use disk for processing, whereas MapReduce has strictly disk-based processing."
        },
        {
            "cell_type": "markdown",
            "metadata": {
                "slideshow": {
                    "slide_type": "slide"
                }
            },
            "source": "### Spark Applications (overview)\n\n<br></br>\n<center>\n<img src=\"../images/spark-arch.png\" alt=\"spark-arch\" align=\"center\" style=\"width: 600px;\"/>\n</center>\n\n> Spark applications run as independent sets of processes on a cluster, coordinated by the SparkContext object in your main program (called the driver program)."
        },
        {
            "cell_type": "markdown",
            "metadata": {
                "slideshow": {
                    "slide_type": "notes"
                }
            },
            "source": "Here we have a diagram of Spark Application.  When we start a spark environment a Spark Session is first created and this manages the driver process.  The driver program can be controlled using API's in Scala, Python SQL, Java and R. The worker nodes on the right are usually distinct machines. Executors are the worker nodes' processes, each in charge of running and individual task and they are shown as the orange squares on the worker nodes. One cluster configuration is to assign several cores to each executor leaving one for additional overhead.  The cluster manager, shown on the bottom, which is often YARN, Mesos or Kubernetes helps coordinate between the driver program and worker nodes."
        },
        {
            "cell_type": "markdown",
            "metadata": {
                "slideshow": {
                    "slide_type": "slide"
                }
            },
            "source": "### Spark Applications (general process)\n\n<br></br>\n<center>\n<img src=\"../images/spark-arch.png\" alt=\"spark-arch\" align=\"center\" style=\"width: 600px;\"/>\n</center>"
        },
        {
            "cell_type": "markdown",
            "metadata": {
                "slideshow": {
                    "slide_type": "notes"
                }
            },
            "source": "Spark applications are run as an independent sets of processes on a cluster coordinated by the SparkContext object in your main program. Each application gets its own executor processes, which remains allocated for the duration of application.  The driver program, that encapsulates both the SparkContext and the SparkSession is used to submit Spark Applications in Spark .The driver program, once it is given instructions in the form of user code will then ask the cluster manager to launch executors. "
        },
        {
            "cell_type": "markdown",
            "metadata": {
                "slideshow": {
                    "slide_type": "slide"
                }
            },
            "source": "## SparkSession\n\n* SparkContext\n* SQLContext\n* HiveContext\n* StreamingContext"
        },
        {
            "cell_type": "code",
            "execution_count": 2,
            "metadata": {
                "slideshow": {
                    "slide_type": "-"
                }
            },
            "outputs": [
                {
                    "name": "stdout",
                    "output_type": "stream",
                    "text": "\u001b[40m\u001b[37m2.4.3\u001b[0m\n\u001b[40m\u001b[37m('spark.dynamicAllocation.enabled', 'false')\u001b[0m\n\u001b[40m\u001b[37m('spark.eventLog.enabled', 'true')\u001b[0m\n\u001b[40m\u001b[37m('spark.network.crypto.keyLength', '256')\u001b[0m\n\u001b[40m\u001b[37m('spark.shuffle.service.enabled', 'false')\u001b[0m\n\u001b[40m\u001b[37m('spark.network.crypto.enabled', 'true')\u001b[0m\n\u001b[40m\u001b[37m('spark.driver.extraJavaOptions', ' -Dderby.system.home=/home/spark/.local/share/jupyter/runtime/kernel-5551f9c1-31b1-48fa-97bd-1a0c03bfa79f-20200422_060436 -Dlog4j.logFile=/home/spark/shared/logs/kernel-python3.6-python3.6-20200422_060436.log -Dlog4j.configuration=file:/opt/ibm/jkg/log4j/log4j.properties -Dfile.encoding=UTF-8 ')\u001b[0m\n\u001b[40m\u001b[37m('spark.driver.host', '172.30.73.132')\u001b[0m\n\u001b[40m\u001b[37m('spark.driver.memory', '4g')\u001b[0m\n\u001b[40m\u001b[37m('spark.executor.extraClassPath', '/usr/local/share/jupyter/kernels/scala/lib/*:/home/spark/shared/user-libs/spark2/*:/home/spark/shared/user-libs/common/*:/home/spark/shared/user-libs/connectors/*:/opt/ibm/connectors/db2/*:/opt/ibm/connectors/others-db-drivers/*:/opt/ibm/third-party/libs/spark2/*:/opt/ibm/third-party/libs/common/*:/opt/ibm/third-party/libs/connectors/*')\u001b[0m\n\u001b[40m\u001b[37m('spark.authenticate.enableSaslEncryption', 'true')\u001b[0m\n\u001b[40m\u001b[37m('spark.ui.port', '4040')\u001b[0m\n\u001b[40m\u001b[37m('spark.ui.killEnabled', 'false')\u001b[0m\n\u001b[40m\u001b[37m('spark.hadoop.fs.stocator.glob.bracket.support', 'true')\u001b[0m\n\u001b[40m\u001b[37m('spark.serializer.objectStreamReset', '100')\u001b[0m\n\u001b[40m\u001b[37m('spark.submit.deployMode', 'client')\u001b[0m\n\u001b[40m\u001b[37m('spark.master', 'spark://jkg-deployment-5551f9c1-31b1-48fa-97bd-1a0c03bfa79f-5d75c4zvtsk:7077')\u001b[0m\n\u001b[40m\u001b[37m('spark.driver.cores', '1')\u001b[0m\n\u001b[40m\u001b[37m('spark.ui.reverseProxy', 'true')\u001b[0m\n\u001b[40m\u001b[37m('spark.app.name', 'sandbox')\u001b[0m\n\u001b[40m\u001b[37m('spark.eventLog.dir', 'file:///home/spark/shared/spark-events')\u001b[0m\n\u001b[40m\u001b[37m('spark.hadoop.fs.stocator.scheme.list', 'cos')\u001b[0m\n\u001b[40m\u001b[37m('spark.history.ui.port', '18080')\u001b[0m\n\u001b[40m\u001b[37m('spark.worker.ui.port', '8081')\u001b[0m\n\u001b[40m\u001b[37m('spark.r.command', '/opt/ibm/conda/R/bin/Rscript')\u001b[0m\n\u001b[40m\u001b[37m('spark.authenticate.secret', '27a80905-6014-4c87-b8b1-5bd35599c6e5')\u001b[0m\n\u001b[40m\u001b[37m('spark.executor.memory', '4g')\u001b[0m\n\u001b[40m\u001b[37m('spark.ui.enabled', 'true')\u001b[0m\n\u001b[40m\u001b[37m('spark.executor.id', 'driver')\u001b[0m\n\u001b[40m\u001b[37m('spark.shuffle.service.port', '7337')\u001b[0m\n\u001b[40m\u001b[37m('spark.driver.port', '39288')\u001b[0m\n\u001b[40m\u001b[37m('spark.hadoop.fs.cos.impl', 'com.ibm.stocator.fs.ObjectStoreFileSystem')\u001b[0m\n\u001b[40m\u001b[37m('spark.hadoop.fs.s3a.impl', 'org.apache.hadoop.fs.s3a.S3AFileSystem')\u001b[0m\n\u001b[40m\u001b[37m('spark.sql.catalogImplementation', 'hive')\u001b[0m\n\u001b[40m\u001b[37m('spark.driver.extraClassPath', '/usr/local/share/jupyter/kernels/scala/lib/*:/home/spark/shared/user-libs/spark2/*:/home/spark/shared/user-libs/common/*:/home/spark/shared/user-libs/connectors/*:/opt/ibm/connectors/db2/*:/opt/ibm/connectors/others-db-drivers/*:/opt/ibm/third-party/libs/spark2/*:/opt/ibm/third-party/libs/common/*:/opt/ibm/third-party/libs/connectors/*')\u001b[0m\n\u001b[40m\u001b[37m('spark.master.ui.port', '8080')\u001b[0m\n\u001b[40m\u001b[37m('spark.rdd.compress', 'True')\u001b[0m\n\u001b[40m\u001b[37m('spark.hadoop.fs.stocator.cos.impl', 'com.ibm.stocator.fs.cos.COSAPIClient')\u001b[0m\n\u001b[40m\u001b[37m('spark.executor.instances', '1')\u001b[0m\n\u001b[40m\u001b[37m('spark.app.id', 'app-20200422060454-0000')\u001b[0m\n\u001b[40m\u001b[37m('spark.history.fs.logDirectory', '/home/spark/shared/spark-event')\u001b[0m\n\u001b[40m\u001b[37m('spark.hadoop.fs.s3a.multipart.size', '33554432')\u001b[0m\n\u001b[40m\u001b[37m('spark.executor.cores', '1')\u001b[0m\n\u001b[40m\u001b[37m('spark.hadoop.fs.stocator.cos.scheme', 'cos')\u001b[0m\n\u001b[40m\u001b[37m('spark.hadoop.fs.s3a.fast.upload', 'true')\u001b[0m\n\u001b[40m\u001b[37m('spark.authenticate', 'true')\u001b[0m\n\u001b[40m\u001b[37m('spark.ui.showConsoleProgress', 'true')\u001b[0m\n"
                }
            ],
            "source": "import pyspark as ps\nimport random\n\nspark = (ps.sql.SparkSession.builder\n        .appName(\"sandbox\")\n        .getOrCreate()\n        )\n\nslide_print(spark.version)\n\nsc = spark.sparkContext\n\nfor attribute in sc._conf.getAll():\n    slide_print(attribute)"
        },
        {
            "cell_type": "markdown",
            "metadata": {
                "slideshow": {
                    "slide_type": "notes"
                }
            },
            "source": "Prior to Spark 2.0 there were multiple points of entry for a Spark application, including: SparkContext, SQLContext, HiveContext, and the StreamingContext.  More recent versions of Spark combine all of these objects into a single point of entry that can be used for all Spark applications.  The SparkContext is a child process of the SparkSession. In this cell first we create a SparkSession using the SparkSession builder then we show how to access the Spark Context. Using the SparkContext we show here how to print some of the configuration properties."
        },
        {
            "cell_type": "markdown",
            "metadata": {
                "slideshow": {
                    "slide_type": "slide"
                }
            },
            "source": "## RDD (Resilient Distributed Dataset) \n\n### An example workflow\n\n1. Create the enviromnent to run spark from python\n2. Extract RDDs or DataFrames from files\n3. Carry out transformations\n4. Execute actions to obtain values (local objects in python)\n\n### The RDD API has two types of operations:\n\n* <span style=\"color:orange\">Transformations</span> - Define a new dataset based on a previous one\n* <span style=\"color:orange\">Actions</span> - launch a job for execution on a cluster"
        },
        {
            "cell_type": "code",
            "execution_count": 3,
            "metadata": {},
            "outputs": [],
            "source": "import requests\ntext = requests.get('https://www.gutenberg.org/files/1661/1661-0.txt').text.encode('ascii', 'ignore').decode('ascii')\n\nwith open(\"sherlock-holmes.txt\", \"w\") as text_file:\n    text_file.write(text)"
        },
        {
            "cell_type": "code",
            "execution_count": 4,
            "metadata": {
                "slideshow": {
                    "slide_type": "-"
                }
            },
            "outputs": [
                {
                    "name": "stdout",
                    "output_type": "stream",
                    "text": "\u001b[40m\u001b[37m<class 'pyspark.rdd.RDD'>\u001b[0m\n\u001b[40m\u001b[37m[('but', 457), ('he', 1015), ('must', 168), ('have', 895), ('bitterly', 1), ('caused', 15), ('his', 1097)]\u001b[0m\n"
                }
            ],
            "source": "text_file = sc.textFile(\"sherlock-holmes.txt\")\ncounts = text_file.flatMap(lambda line: line.split(\" \")) \\\n             .map(lambda word: (word, 1)) \\\n             .reduceByKey(lambda a, b: a + b)\nslide_print(type(text_file))  # show that the data are read into an RDD\nresults = counts.collect()    # output the content in python (CAUTION)\nslide_print(results[:7])      # print output"
        },
        {
            "cell_type": "markdown",
            "metadata": {
                "slideshow": {
                    "slide_type": "notes"
                }
            },
            "source": "Theses four enumerated steps represent an example workflow.  The code version of these steps are shown just below, with the exception of setting up the environment which we just did.  Spark revolves around the concept of resilient distributed datasets or RDDs.  An RDD is a fault-tolerant collection of elements that can be operated on in parallel. The RDD API, uses two types types of operations: transformations and and actions.  On top of Spark\u2019s RDD API, high level APIs are provided, including the DataFrame API and Machine Learning API, both of which we will cover in this course.  The text_file is an RDD that once subjected to a chain of transformations is used to create counts, another RDD.  The action we use here is 'collect', which brings the data back into Python and it is something you should exercise caution with, especially when working with very large datasets."
        },
        {
            "cell_type": "markdown",
            "metadata": {
                "slideshow": {
                    "slide_type": "slide"
                }
            },
            "source": "### To keep in mind\n\n * Transformations are the main way of expressing business logic in Spark.\n * Spark doesn't apply the transformation right away, it just builds on the DAG\n * Transformations can be chained together\n *  RDDs are an immutable distributed collection of elements of your data, partitioned across nodes in your cluster that can be operated on in parallel\n"
        },
        {
            "cell_type": "code",
            "execution_count": 5,
            "metadata": {
                "slideshow": {
                    "slide_type": "-"
                }
            },
            "outputs": [
                {
                    "name": "stdout",
                    "output_type": "stream",
                    "text": "total divisible by 3: 166894/500000\n"
                }
            ],
            "source": "# an RDD from a an array\nrand_nums = np.random.randint(0,500,500000)\nrdd = sc.parallelize(rand_nums) \ndivis_by_3 = rdd.filter(lambda x: x % 3 == 0)\n\ntotal1 = rdd.count()\ntotal2 = divis_by_3.count()\n\nprint(\"total divisible by 3: {}/{}\".format(total2,total1))"
        },
        {
            "cell_type": "markdown",
            "metadata": {
                "slideshow": {
                    "slide_type": "notes"
                }
            },
            "source": "There are several important things to remember about RDDs.  The first is that they use what is known as lazy evaluation.  This means that Spark will wait until the very last moment to execute your transformations.  It does this by constructing a Direct Acyclic Graph or DAG of the transformations.  When an action like count or collect is called the task is sent for execution.  Here we show another example on an RDD, but this time we create it using a numpy array with the parallelize function.  The transformation is a simple filter and the actions are obtain counts rather than all of the data since we generally want to avoid pulling all data into local memory unless we have too."
        },
        {
            "cell_type": "markdown",
            "metadata": {
                "slideshow": {
                    "slide_type": "slide"
                }
            },
            "source": "## Spark-submit"
        },
        {
            "cell_type": "code",
            "execution_count": 6,
            "metadata": {
                "slideshow": {
                    "slide_type": "-"
                }
            },
            "outputs": [
                {
                    "name": "stdout",
                    "output_type": "stream",
                    "text": "Writing calculate-pi.py\n"
                }
            ],
            "source": "%%writefile calculate-pi.py\n\nimport pyspark as ps\nimport random\n\nspark = (ps.sql.SparkSession.builder\n        .appName(\"get-pi\")\n        .getOrCreate()\n        )\n\nsc = spark.sparkContext\nrandom.seed(1)\n\ndef sample(p):\n    x, y = random.random(), random.random()\n    return 1 if x*x + y*y < 1 else 0\n\ncount = (sc.parallelize(range(0, 10000000))\n           .map(sample)\n           .reduce(lambda a, b: a + b)\n        )\n\nresult = {\"pi\": (4.0 * count / 10000000)}\nprint(result, file=open('calculate-pi-out.txt', 'w'))"
        },
        {
            "cell_type": "code",
            "execution_count": 7,
            "metadata": {},
            "outputs": [
                {
                    "name": "stdout",
                    "output_type": "stream",
                    "text": "Writing example-spark-submit.sh\n"
                }
            ],
            "source": "%%writefile example-spark-submit.sh\n\n#!/bin/bash\n${SPARK_HOME}/bin/spark-submit \\\n--master local[4] \\\n--executor-memory 1G \\\n--driver-memory 1G \\\n$@"
        },
        {
            "cell_type": "code",
            "execution_count": 8,
            "metadata": {},
            "outputs": [],
            "source": "!chmod 711 example-spark-submit.sh"
        },
        {
            "cell_type": "code",
            "execution_count": 9,
            "metadata": {
                "scrolled": true
            },
            "outputs": [
                {
                    "name": "stdout",
                    "output_type": "stream",
                    "text": "SLF4J: Class path contains multiple SLF4J bindings.\nSLF4J: Found binding in [jar:file:/opt/ibm/spark/jars/slf4j-log4j12-1.7.16.jar!/org/slf4j/impl/StaticLoggerBinder.class]\nSLF4J: Found binding in [jar:file:/opt/ibm/image-libs/spark2/tika-app-1.14.jar!/org/slf4j/impl/StaticLoggerBinder.class]\nSLF4J: See http://www.slf4j.org/codes.html#multiple_bindings for an explanation.\nSLF4J: Actual binding is of type [org.slf4j.impl.Log4jLoggerFactory]\n20/04/22 06:05:12 [WARN] o.a.h.u.NativeCodeLoader - Unable to load native-hadoop library for your platform... using builtin-java classes where applicable\n20/04/22 06:05:14 [INFO] o.s.j.u.log - Logging initialized @3906ms\n20/04/22 06:05:14 [INFO] o.s.j.s.Server - jetty-9.3.z-SNAPSHOT, build timestamp: unknown, git hash: unknown\n20/04/22 06:05:14 [INFO] o.s.j.s.Server - Started @4009ms\n20/04/22 06:05:14 [WARN] o.a.s.u.Utils - Service 'SparkUI' could not bind on port 4040. Attempting port 4041.\n20/04/22 06:05:14 [INFO] o.s.j.s.AbstractConnector - Started ServerConnector@1f6a1a4c{HTTP/1.1,[http/1.1]}{0.0.0.0:4041}\n20/04/22 06:05:14 [INFO] o.s.j.s.h.ContextHandler - Started o.s.j.s.ServletContextHandler@-2aba5ef1{/jobs,null,AVAILABLE,@Spark}\n20/04/22 06:05:14 [INFO] o.s.j.s.h.ContextHandler - Started o.s.j.s.ServletContextHandler@37c56d8b{/jobs/json,null,AVAILABLE,@Spark}\n20/04/22 06:05:14 [INFO] o.s.j.s.h.ContextHandler - Started o.s.j.s.ServletContextHandler@2ce08836{/jobs/job,null,AVAILABLE,@Spark}\n20/04/22 06:05:14 [INFO] o.s.j.s.h.ContextHandler - Started o.s.j.s.ServletContextHandler@433a7e65{/jobs/job/json,null,AVAILABLE,@Spark}\n20/04/22 06:05:14 [INFO] o.s.j.s.h.ContextHandler - Started o.s.j.s.ServletContextHandler@-21fd26dc{/stages,null,AVAILABLE,@Spark}\n20/04/22 06:05:14 [INFO] o.s.j.s.h.ContextHandler - Started o.s.j.s.ServletContextHandler@-5842b664{/stages/json,null,AVAILABLE,@Spark}\n20/04/22 06:05:14 [INFO] o.s.j.s.h.ContextHandler - Started o.s.j.s.ServletContextHandler@-420f67fd{/stages/stage,null,AVAILABLE,@Spark}\n20/04/22 06:05:14 [INFO] o.s.j.s.h.ContextHandler - Started o.s.j.s.ServletContextHandler@-64bf1b31{/stages/stage/json,null,AVAILABLE,@Spark}\n20/04/22 06:05:14 [INFO] o.s.j.s.h.ContextHandler - Started o.s.j.s.ServletContextHandler@-596edb48{/stages/pool,null,AVAILABLE,@Spark}\n20/04/22 06:05:14 [INFO] o.s.j.s.h.ContextHandler - Started o.s.j.s.ServletContextHandler@-414433cc{/stages/pool/json,null,AVAILABLE,@Spark}\n20/04/22 06:05:14 [INFO] o.s.j.s.h.ContextHandler - Started o.s.j.s.ServletContextHandler@217c0176{/storage,null,AVAILABLE,@Spark}\n20/04/22 06:05:14 [INFO] o.s.j.s.h.ContextHandler - Started o.s.j.s.ServletContextHandler@7cfb39a6{/storage/json,null,AVAILABLE,@Spark}\n20/04/22 06:05:14 [INFO] o.s.j.s.h.ContextHandler - Started o.s.j.s.ServletContextHandler@-36b2f287{/storage/rdd,null,AVAILABLE,@Spark}\n20/04/22 06:05:14 [INFO] o.s.j.s.h.ContextHandler - Started o.s.j.s.ServletContextHandler@1cdb72eb{/storage/rdd/json,null,AVAILABLE,@Spark}\n20/04/22 06:05:14 [INFO] o.s.j.s.h.ContextHandler - Started o.s.j.s.ServletContextHandler@c3d4bf{/environment,null,AVAILABLE,@Spark}\n20/04/22 06:05:14 [INFO] o.s.j.s.h.ContextHandler - Started o.s.j.s.ServletContextHandler@23a41102{/environment/json,null,AVAILABLE,@Spark}\n20/04/22 06:05:14 [INFO] o.s.j.s.h.ContextHandler - Started o.s.j.s.ServletContextHandler@-6debe3b9{/executors,null,AVAILABLE,@Spark}\n20/04/22 06:05:14 [INFO] o.s.j.s.h.ContextHandler - Started o.s.j.s.ServletContextHandler@70061f5e{/executors/json,null,AVAILABLE,@Spark}\n20/04/22 06:05:14 [INFO] o.s.j.s.h.ContextHandler - Started o.s.j.s.ServletContextHandler@13128fe1{/executors/threadDump,null,AVAILABLE,@Spark}\n20/04/22 06:05:14 [INFO] o.s.j.s.h.ContextHandler - Started o.s.j.s.ServletContextHandler@790ba9d{/executors/threadDump/json,null,AVAILABLE,@Spark}\n20/04/22 06:05:14 [INFO] o.s.j.s.h.ContextHandler - Started o.s.j.s.ServletContextHandler@30141549{/static,null,AVAILABLE,@Spark}\n20/04/22 06:05:14 [INFO] o.s.j.s.h.ContextHandler - Started o.s.j.s.ServletContextHandler@6ff97b82{/,null,AVAILABLE,@Spark}\n20/04/22 06:05:14 [INFO] o.s.j.s.h.ContextHandler - Started o.s.j.s.ServletContextHandler@-64849002{/api,null,AVAILABLE,@Spark}\n20/04/22 06:05:14 [INFO] o.s.j.s.h.ContextHandler - Started o.s.j.s.ServletContextHandler@48d09aaa{/jobs/job/kill,null,AVAILABLE,@Spark}\n20/04/22 06:05:14 [INFO] o.s.j.s.h.ContextHandler - Started o.s.j.s.ServletContextHandler@1a2d538c{/stages/stage/kill,null,AVAILABLE,@Spark}\n20/04/22 06:05:15 [INFO] o.s.j.s.h.ContextHandler - Started o.s.j.s.ServletContextHandler@-3606215c{/metrics/json,null,AVAILABLE,@Spark}\n20/04/22 06:05:16 [INFO] o.s.j.s.h.ContextHandler - Started o.s.j.s.ServletContextHandler@d8d12c8{/SQL,null,AVAILABLE,@Spark}\n20/04/22 06:05:16 [INFO] o.s.j.s.h.ContextHandler - Started o.s.j.s.ServletContextHandler@61ca466c{/SQL/json,null,AVAILABLE,@Spark}\n20/04/22 06:05:16 [INFO] o.s.j.s.h.ContextHandler - Started o.s.j.s.ServletContextHandler@-4312c4cc{/SQL/execution,null,AVAILABLE,@Spark}\n20/04/22 06:05:16 [INFO] o.s.j.s.h.ContextHandler - Started o.s.j.s.ServletContextHandler@4f880f1e{/SQL/execution/json,null,AVAILABLE,@Spark}\n20/04/22 06:05:16 [INFO] o.s.j.s.h.ContextHandler - Started o.s.j.s.ServletContextHandler@-237414b8{/static/sql,null,AVAILABLE,@Spark}\n20/04/22 06:05:17 [WARN] o.a.s.u.SizeEstimator - Failed to check whether UseCompressedOops is set; assuming yes\n20/04/22 06:05:22 [INFO] o.s.j.s.AbstractConnector - Stopped Spark@1f6a1a4c{HTTP/1.1,[http/1.1]}{0.0.0.0:4041}\n"
                }
            ],
            "source": "!./example-spark-submit.sh calculate-pi.py"
        },
        {
            "cell_type": "markdown",
            "metadata": {
                "slideshow": {
                    "slide_type": "-"
                }
            },
            "source": "```bash\n~$ spark-submit calculate-pi.py\n```"
        },
        {
            "cell_type": "code",
            "execution_count": 10,
            "metadata": {
                "slideshow": {
                    "slide_type": "-"
                }
            },
            "outputs": [
                {
                    "name": "stdout",
                    "output_type": "stream",
                    "text": "\u001b[40m\u001b[37m{'pi': 3.1398112}\u001b[0m\n"
                }
            ],
            "source": "import ast\nwith open(\"calculate-pi-out.txt\") as file:  \n    results = file.read() \n    results = ast.literal_eval(results)\n    \nslide_print(results)"
        },
        {
            "cell_type": "markdown",
            "metadata": {
                "slideshow": {
                    "slide_type": "notes"
                }
            },
            "source": "Applications can be submitted to a cluster of any type using the command spark-submit and an accompanying script. The writefile magic function shown here saved the code in the cell as a python script to be called by spark-submit.  The file calculate-pi, unsurprisingly calculates pi, but more importantly it shows an example of how to map a custom function over an RDD.  Spark-submit can be run from the command line as shown.  Generally, it is called with a number of options using a bash file, but it can be called using all the defaults as shown here. Once the script is run it will produce the outfile that is being printed here.  This procedure could be used to make a prediction using a machine learning model that has been tuned, trained and saved. "
        }
    ],
    "metadata": {
        "celltoolbar": "Slideshow",
        "kernelspec": {
            "display_name": "Python 3.6 with Spark",
            "language": "python3",
            "name": "python36"
        },
        "language_info": {
            "codemirror_mode": {
                "name": "ipython",
                "version": 3
            },
            "file_extension": ".py",
            "mimetype": "text/x-python",
            "name": "python",
            "nbconvert_exporter": "python",
            "pygments_lexer": "ipython3",
            "version": "3.6.8"
        },
        "rise": {
            "autolaunch": true,
            "enable_chalkboard": true,
            "theme": "sky"
        }
    },
    "nbformat": 4,
    "nbformat_minor": 2
}