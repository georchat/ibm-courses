{
    "cells": [
        {
            "cell_type": "markdown",
            "metadata": {
                "collapsed": true
            },
            "source": "<img src = \"https://s3-api.us-geo.objectstorage.softlayer.net/cf-courses-data/CognitiveClass/Logos/organization_logo/organization_logo.png\" width = 400>  </a>\n\n<h1 align=center><font size = 5>Peer-graded Assignment: Build a Regression Model in Keras</font></h1>"
        },
        {
            "cell_type": "markdown",
            "metadata": {},
            "source": "# Introduction\n\nIn this course project, you will build a regression model using the deep learning Keras library, and then you will experiment with increasing the number of training epochs and changing number of hidden layers and you will see how changing these parameters impacts the performance of the model."
        },
        {
            "cell_type": "markdown",
            "metadata": {},
            "source": "## Table of Contents\n\n<div class=\"alert alert-block alert-info\" style=\"margin-top: 20px\">\n\n<font size = 3>\n    \n1. <a href=\"#item1\">Build a baseline model</a>  \n2. <a href=\"#item2\">Normalize the data</a>  \n3. <a href=\"#item3\">Increase the number of epochs</a>  \n4. <a href=\"#item4\">Increase the number of hidden layers</a>  \n\n</font>\n</div>"
        },
        {
            "cell_type": "markdown",
            "metadata": {},
            "source": "<a id=\"item1\"></a>\n# Build a baseline model\n\nUse the Keras library to build a neural network with the following:\n\n- One hidden layer of 10 nodes, and a ReLU activation function\n- Use the adam optimizer and the mean squared error as the loss function.\n\nSteps:\n1. Randomly split the data into a training and test sets by holding 30% of the data for testing. You can use the `train_test_split` helper function from Scikit-learn.\n\n2. Train the model on the training data using 50 epochs.\n\n3. Evaluate the model on the test data and compute the mean squared error between the predicted concrete strength and the actual concrete strength. You can use the `mean_squared_error` function from Scikit-learn.\n\n4. Repeat steps 1 - 3, 50 times, i.e., create a list of 50 mean squared errors.\n\n5. Report the mean and the standard deviation of the mean squared errors."
        },
        {
            "cell_type": "markdown",
            "metadata": {},
            "source": "### Load the dataset\n\nThe dataset is about the compressive strength of different samples of concrete based on the volumes of the different ingredients that were used to make them."
        },
        {
            "cell_type": "code",
            "execution_count": 1,
            "metadata": {},
            "outputs": [
                {
                    "name": "stdout",
                    "output_type": "stream",
                    "text": "(1030, 9)\n"
                },
                {
                    "data": {
                        "text/html": "<div>\n<style scoped>\n    .dataframe tbody tr th:only-of-type {\n        vertical-align: middle;\n    }\n\n    .dataframe tbody tr th {\n        vertical-align: top;\n    }\n\n    .dataframe thead th {\n        text-align: right;\n    }\n</style>\n<table border=\"1\" class=\"dataframe\">\n  <thead>\n    <tr style=\"text-align: right;\">\n      <th></th>\n      <th>Cement</th>\n      <th>Blast Furnace Slag</th>\n      <th>Fly Ash</th>\n      <th>Water</th>\n      <th>Superplasticizer</th>\n      <th>Coarse Aggregate</th>\n      <th>Fine Aggregate</th>\n      <th>Age</th>\n      <th>Strength</th>\n    </tr>\n  </thead>\n  <tbody>\n    <tr>\n      <th>0</th>\n      <td>540.0</td>\n      <td>0.0</td>\n      <td>0.0</td>\n      <td>162.0</td>\n      <td>2.5</td>\n      <td>1040.0</td>\n      <td>676.0</td>\n      <td>28</td>\n      <td>79.99</td>\n    </tr>\n    <tr>\n      <th>1</th>\n      <td>540.0</td>\n      <td>0.0</td>\n      <td>0.0</td>\n      <td>162.0</td>\n      <td>2.5</td>\n      <td>1055.0</td>\n      <td>676.0</td>\n      <td>28</td>\n      <td>61.89</td>\n    </tr>\n    <tr>\n      <th>2</th>\n      <td>332.5</td>\n      <td>142.5</td>\n      <td>0.0</td>\n      <td>228.0</td>\n      <td>0.0</td>\n      <td>932.0</td>\n      <td>594.0</td>\n      <td>270</td>\n      <td>40.27</td>\n    </tr>\n    <tr>\n      <th>3</th>\n      <td>332.5</td>\n      <td>142.5</td>\n      <td>0.0</td>\n      <td>228.0</td>\n      <td>0.0</td>\n      <td>932.0</td>\n      <td>594.0</td>\n      <td>365</td>\n      <td>41.05</td>\n    </tr>\n    <tr>\n      <th>4</th>\n      <td>198.6</td>\n      <td>132.4</td>\n      <td>0.0</td>\n      <td>192.0</td>\n      <td>0.0</td>\n      <td>978.4</td>\n      <td>825.5</td>\n      <td>360</td>\n      <td>44.30</td>\n    </tr>\n  </tbody>\n</table>\n</div>",
                        "text/plain": "   Cement  Blast Furnace Slag  Fly Ash  Water  Superplasticizer  \\\n0   540.0                 0.0      0.0  162.0               2.5   \n1   540.0                 0.0      0.0  162.0               2.5   \n2   332.5               142.5      0.0  228.0               0.0   \n3   332.5               142.5      0.0  228.0               0.0   \n4   198.6               132.4      0.0  192.0               0.0   \n\n   Coarse Aggregate  Fine Aggregate  Age  Strength  \n0            1040.0           676.0   28     79.99  \n1            1055.0           676.0   28     61.89  \n2             932.0           594.0  270     40.27  \n3             932.0           594.0  365     41.05  \n4             978.4           825.5  360     44.30  "
                    },
                    "execution_count": 1,
                    "metadata": {},
                    "output_type": "execute_result"
                }
            ],
            "source": "import pandas as pd\nimport numpy as np\n\n## load the data from source\ndf = pd.read_csv('https://cocl.us/concrete_data')\n\nprint(df.shape)\ndf.head()"
        },
        {
            "cell_type": "markdown",
            "metadata": {},
            "source": "Check the data structure and quality"
        },
        {
            "cell_type": "code",
            "execution_count": 2,
            "metadata": {},
            "outputs": [
                {
                    "data": {
                        "text/html": "<div>\n<style scoped>\n    .dataframe tbody tr th:only-of-type {\n        vertical-align: middle;\n    }\n\n    .dataframe tbody tr th {\n        vertical-align: top;\n    }\n\n    .dataframe thead th {\n        text-align: right;\n    }\n</style>\n<table border=\"1\" class=\"dataframe\">\n  <thead>\n    <tr style=\"text-align: right;\">\n      <th></th>\n      <th>Cement</th>\n      <th>Blast Furnace Slag</th>\n      <th>Fly Ash</th>\n      <th>Water</th>\n      <th>Superplasticizer</th>\n      <th>Coarse Aggregate</th>\n      <th>Fine Aggregate</th>\n      <th>Age</th>\n      <th>Strength</th>\n    </tr>\n  </thead>\n  <tbody>\n    <tr>\n      <th>count</th>\n      <td>1030.000000</td>\n      <td>1030.000000</td>\n      <td>1030.000000</td>\n      <td>1030.000000</td>\n      <td>1030.000000</td>\n      <td>1030.000000</td>\n      <td>1030.000000</td>\n      <td>1030.000000</td>\n      <td>1030.000000</td>\n    </tr>\n    <tr>\n      <th>mean</th>\n      <td>281.167864</td>\n      <td>73.895825</td>\n      <td>54.188350</td>\n      <td>181.567282</td>\n      <td>6.204660</td>\n      <td>972.918932</td>\n      <td>773.580485</td>\n      <td>45.662136</td>\n      <td>35.817961</td>\n    </tr>\n    <tr>\n      <th>std</th>\n      <td>104.506364</td>\n      <td>86.279342</td>\n      <td>63.997004</td>\n      <td>21.354219</td>\n      <td>5.973841</td>\n      <td>77.753954</td>\n      <td>80.175980</td>\n      <td>63.169912</td>\n      <td>16.705742</td>\n    </tr>\n    <tr>\n      <th>min</th>\n      <td>102.000000</td>\n      <td>0.000000</td>\n      <td>0.000000</td>\n      <td>121.800000</td>\n      <td>0.000000</td>\n      <td>801.000000</td>\n      <td>594.000000</td>\n      <td>1.000000</td>\n      <td>2.330000</td>\n    </tr>\n    <tr>\n      <th>25%</th>\n      <td>192.375000</td>\n      <td>0.000000</td>\n      <td>0.000000</td>\n      <td>164.900000</td>\n      <td>0.000000</td>\n      <td>932.000000</td>\n      <td>730.950000</td>\n      <td>7.000000</td>\n      <td>23.710000</td>\n    </tr>\n    <tr>\n      <th>50%</th>\n      <td>272.900000</td>\n      <td>22.000000</td>\n      <td>0.000000</td>\n      <td>185.000000</td>\n      <td>6.400000</td>\n      <td>968.000000</td>\n      <td>779.500000</td>\n      <td>28.000000</td>\n      <td>34.445000</td>\n    </tr>\n    <tr>\n      <th>75%</th>\n      <td>350.000000</td>\n      <td>142.950000</td>\n      <td>118.300000</td>\n      <td>192.000000</td>\n      <td>10.200000</td>\n      <td>1029.400000</td>\n      <td>824.000000</td>\n      <td>56.000000</td>\n      <td>46.135000</td>\n    </tr>\n    <tr>\n      <th>max</th>\n      <td>540.000000</td>\n      <td>359.400000</td>\n      <td>200.100000</td>\n      <td>247.000000</td>\n      <td>32.200000</td>\n      <td>1145.000000</td>\n      <td>992.600000</td>\n      <td>365.000000</td>\n      <td>82.600000</td>\n    </tr>\n  </tbody>\n</table>\n</div>",
                        "text/plain": "            Cement  Blast Furnace Slag      Fly Ash        Water  \\\ncount  1030.000000         1030.000000  1030.000000  1030.000000   \nmean    281.167864           73.895825    54.188350   181.567282   \nstd     104.506364           86.279342    63.997004    21.354219   \nmin     102.000000            0.000000     0.000000   121.800000   \n25%     192.375000            0.000000     0.000000   164.900000   \n50%     272.900000           22.000000     0.000000   185.000000   \n75%     350.000000          142.950000   118.300000   192.000000   \nmax     540.000000          359.400000   200.100000   247.000000   \n\n       Superplasticizer  Coarse Aggregate  Fine Aggregate          Age  \\\ncount       1030.000000       1030.000000     1030.000000  1030.000000   \nmean           6.204660        972.918932      773.580485    45.662136   \nstd            5.973841         77.753954       80.175980    63.169912   \nmin            0.000000        801.000000      594.000000     1.000000   \n25%            0.000000        932.000000      730.950000     7.000000   \n50%            6.400000        968.000000      779.500000    28.000000   \n75%           10.200000       1029.400000      824.000000    56.000000   \nmax           32.200000       1145.000000      992.600000   365.000000   \n\n          Strength  \ncount  1030.000000  \nmean     35.817961  \nstd      16.705742  \nmin       2.330000  \n25%      23.710000  \n50%      34.445000  \n75%      46.135000  \nmax      82.600000  "
                    },
                    "execution_count": 2,
                    "metadata": {},
                    "output_type": "execute_result"
                }
            ],
            "source": "df.describe()"
        },
        {
            "cell_type": "code",
            "execution_count": 3,
            "metadata": {},
            "outputs": [
                {
                    "data": {
                        "text/plain": "Cement                0\nBlast Furnace Slag    0\nFly Ash               0\nWater                 0\nSuperplasticizer      0\nCoarse Aggregate      0\nFine Aggregate        0\nAge                   0\nStrength              0\ndtype: int64"
                    },
                    "execution_count": 3,
                    "metadata": {},
                    "output_type": "execute_result"
                }
            ],
            "source": "df.isnull().sum()"
        },
        {
            "cell_type": "markdown",
            "metadata": {},
            "source": "The data have different scales and there are not any missing values"
        },
        {
            "cell_type": "markdown",
            "metadata": {},
            "source": "**Split data into predictors and target**\n\nThe target variable in this problem is the concrete sample strength. Therefore, our predictors will be all the other columns."
        },
        {
            "cell_type": "code",
            "execution_count": 4,
            "metadata": {},
            "outputs": [
                {
                    "name": "stdout",
                    "output_type": "stream",
                    "text": "(1030, 8)\n(1030,)\n"
                }
            ],
            "source": "## split data into predictors and target\nX = df.drop(\"Strength\", axis=1)\ny = df[\"Strength\"].copy()\n\nprint(X.shape)\nprint(y.shape)"
        },
        {
            "cell_type": "markdown",
            "metadata": {},
            "source": "### Build DNN model"
        },
        {
            "cell_type": "code",
            "execution_count": 5,
            "metadata": {},
            "outputs": [
                {
                    "name": "stderr",
                    "output_type": "stream",
                    "text": "Using TensorFlow backend.\n"
                }
            ],
            "source": "import keras\nfrom keras.models import Sequential\nfrom keras.layers import Dense, InputLayer\n\ndef build_dnn(n_layers, n_nodes, n_inputs, activation_func=\"relu\"):\n    \"\"\"\n    build deep neural network\n    \"\"\"\n    model = Sequential()\n    \n    ## input layer\n    model.add(InputLayer(input_shape=(n_inputs,)))\n    \n    ## hidden layers\n    for layer in range(n_layers):\n        model.add(Dense(n_nodes, activation=activation_func))\n        \n    ## output layer\n    model.add(Dense(1))\n    \n    ## compile model\n    model.compile(optimizer='adam', loss='mean_squared_error')\n    \n    ## print model summary\n    model.summary()\n    \n    return model"
        },
        {
            "cell_type": "markdown",
            "metadata": {},
            "source": "### Train and Evaluate DNN model"
        },
        {
            "cell_type": "code",
            "execution_count": 6,
            "metadata": {},
            "outputs": [],
            "source": "from sklearn.model_selection import train_test_split\nfrom sklearn.metrics import mean_squared_error\n\ndef model_train(X, y, model, n_iterations=50, n_epochs=50):\n    \"\"\"\n    train and evaluate the model on different train-test splits\n    \"\"\"\n    mse = []\n\n    for i in range(n_iterations):\n        \n        ## split the data set into train and test set\n        X_train, X_test, y_train, y_test = train_test_split(X, y, test_size=0.3)\n        \n        ## train the model\n        model.fit(X_train, y_train, epochs=n_epochs, verbose=0)\n        \n        ## calculate score\n        y_pred = model.predict(X_test)\n        mse.append(mean_squared_error(y_test, y_pred))\n    \n    print(\"the mean is {} and the standard deviation is {}\".format(round(np.mean(mse),4), round(np.std(mse),4)))\n    \n    return mse"
        },
        {
            "cell_type": "code",
            "execution_count": 7,
            "metadata": {},
            "outputs": [],
            "source": "## create a dictionary to store the scores for each project part\nscores={}"
        },
        {
            "cell_type": "code",
            "execution_count": 8,
            "metadata": {},
            "outputs": [
                {
                    "name": "stdout",
                    "output_type": "stream",
                    "text": "WARNING:tensorflow:From /opt/conda/envs/Python36/lib/python3.6/site-packages/tensorflow/python/framework/op_def_library.py:263: colocate_with (from tensorflow.python.framework.ops) is deprecated and will be removed in a future version.\nInstructions for updating:\nColocations handled automatically by placer.\n_________________________________________________________________\nLayer (type)                 Output Shape              Param #   \n=================================================================\ndense_1 (Dense)              (None, 10)                90        \n_________________________________________________________________\ndense_2 (Dense)              (None, 1)                 11        \n=================================================================\nTotal params: 101\nTrainable params: 101\nNon-trainable params: 0\n_________________________________________________________________\nWARNING:tensorflow:From /opt/conda/envs/Python36/lib/python3.6/site-packages/tensorflow/python/ops/math_ops.py:3066: to_int32 (from tensorflow.python.ops.math_ops) is deprecated and will be removed in a future version.\nInstructions for updating:\nUse tf.cast instead.\nthe mean is 67.7292 and the standard deviation is 27.2505\n"
                }
            ],
            "source": "keras.backend.clear_session()\n\n## build neural network\nshallow_model = build_dnn(n_layers=1, n_nodes=10, n_inputs=X.shape[1])\n\n## train model\nscores[\"A\"] = model_train(X, y, shallow_model)"
        },
        {
            "cell_type": "markdown",
            "metadata": {},
            "source": "<a id=\"item2\"></a>\n\n# Normalize the Data\n\nRepeat Part A but use a normalized version of the data. Recall that one way to normalize the data is by subtracting the mean from the individual predictors and dividing by the standard deviation."
        },
        {
            "cell_type": "code",
            "execution_count": 9,
            "metadata": {},
            "outputs": [
                {
                    "data": {
                        "text/html": "<div>\n<style scoped>\n    .dataframe tbody tr th:only-of-type {\n        vertical-align: middle;\n    }\n\n    .dataframe tbody tr th {\n        vertical-align: top;\n    }\n\n    .dataframe thead th {\n        text-align: right;\n    }\n</style>\n<table border=\"1\" class=\"dataframe\">\n  <thead>\n    <tr style=\"text-align: right;\">\n      <th></th>\n      <th>Cement</th>\n      <th>Blast Furnace Slag</th>\n      <th>Fly Ash</th>\n      <th>Water</th>\n      <th>Superplasticizer</th>\n      <th>Coarse Aggregate</th>\n      <th>Fine Aggregate</th>\n      <th>Age</th>\n    </tr>\n  </thead>\n  <tbody>\n    <tr>\n      <th>0</th>\n      <td>2.476712</td>\n      <td>-0.856472</td>\n      <td>-0.846733</td>\n      <td>-0.916319</td>\n      <td>-0.620147</td>\n      <td>0.862735</td>\n      <td>-1.217079</td>\n      <td>-0.279597</td>\n    </tr>\n    <tr>\n      <th>1</th>\n      <td>2.476712</td>\n      <td>-0.856472</td>\n      <td>-0.846733</td>\n      <td>-0.916319</td>\n      <td>-0.620147</td>\n      <td>1.055651</td>\n      <td>-1.217079</td>\n      <td>-0.279597</td>\n    </tr>\n    <tr>\n      <th>2</th>\n      <td>0.491187</td>\n      <td>0.795140</td>\n      <td>-0.846733</td>\n      <td>2.174405</td>\n      <td>-1.038638</td>\n      <td>-0.526262</td>\n      <td>-2.239829</td>\n      <td>3.551340</td>\n    </tr>\n    <tr>\n      <th>3</th>\n      <td>0.491187</td>\n      <td>0.795140</td>\n      <td>-0.846733</td>\n      <td>2.174405</td>\n      <td>-1.038638</td>\n      <td>-0.526262</td>\n      <td>-2.239829</td>\n      <td>5.055221</td>\n    </tr>\n    <tr>\n      <th>4</th>\n      <td>-0.790075</td>\n      <td>0.678079</td>\n      <td>-0.846733</td>\n      <td>0.488555</td>\n      <td>-1.038638</td>\n      <td>0.070492</td>\n      <td>0.647569</td>\n      <td>4.976069</td>\n    </tr>\n  </tbody>\n</table>\n</div>",
                        "text/plain": "     Cement  Blast Furnace Slag   Fly Ash     Water  Superplasticizer  \\\n0  2.476712           -0.856472 -0.846733 -0.916319         -0.620147   \n1  2.476712           -0.856472 -0.846733 -0.916319         -0.620147   \n2  0.491187            0.795140 -0.846733  2.174405         -1.038638   \n3  0.491187            0.795140 -0.846733  2.174405         -1.038638   \n4 -0.790075            0.678079 -0.846733  0.488555         -1.038638   \n\n   Coarse Aggregate  Fine Aggregate       Age  \n0          0.862735       -1.217079 -0.279597  \n1          1.055651       -1.217079 -0.279597  \n2         -0.526262       -2.239829  3.551340  \n3         -0.526262       -2.239829  5.055221  \n4          0.070492        0.647569  4.976069  "
                    },
                    "execution_count": 9,
                    "metadata": {},
                    "output_type": "execute_result"
                }
            ],
            "source": "X_norm = (X - X.mean()) / X.std()\nX_norm.head()"
        },
        {
            "cell_type": "code",
            "execution_count": 10,
            "metadata": {},
            "outputs": [
                {
                    "name": "stdout",
                    "output_type": "stream",
                    "text": "_________________________________________________________________\nLayer (type)                 Output Shape              Param #   \n=================================================================\ndense_1 (Dense)              (None, 10)                90        \n_________________________________________________________________\ndense_2 (Dense)              (None, 1)                 11        \n=================================================================\nTotal params: 101\nTrainable params: 101\nNon-trainable params: 0\n_________________________________________________________________\nthe mean is 48.7866 and the standard deviation is 53.9284\n"
                }
            ],
            "source": "keras.backend.clear_session()\n\n## build neural network\nshallow_model = build_dnn(n_layers=1, n_nodes=10, n_inputs=X.shape[1])\n\n## train model\nscores[\"B\"] =  model_train(X_norm, y, shallow_model)"
        },
        {
            "cell_type": "markdown",
            "metadata": {},
            "source": "The mean of the mean squared errors has decreased compared to the value from part A. Data normalization has an impact."
        },
        {
            "cell_type": "markdown",
            "metadata": {},
            "source": "<a id=\"item3\"></a>\n\n# Increase the number of epochs\n\nRepeat Part B but use 100 epochs this time for training."
        },
        {
            "cell_type": "code",
            "execution_count": 11,
            "metadata": {},
            "outputs": [
                {
                    "name": "stdout",
                    "output_type": "stream",
                    "text": "_________________________________________________________________\nLayer (type)                 Output Shape              Param #   \n=================================================================\ndense_1 (Dense)              (None, 10)                90        \n_________________________________________________________________\ndense_2 (Dense)              (None, 1)                 11        \n=================================================================\nTotal params: 101\nTrainable params: 101\nNon-trainable params: 0\n_________________________________________________________________\nthe mean is 42.2112 and the standard deviation is 23.4988\n"
                }
            ],
            "source": "keras.backend.clear_session()\n\n## build neural network\nshallow_model = build_dnn(n_layers=1, n_nodes=10, n_inputs=X.shape[1])\n\n## train model\nscores[\"C\"] =  model_train(X_norm, y, shallow_model, n_epochs=100)"
        },
        {
            "cell_type": "markdown",
            "metadata": {},
            "source": "The mean of the mean squared errors has decreased compared to the value from part B. Longer training results to better results."
        },
        {
            "cell_type": "markdown",
            "metadata": {},
            "source": "<a id=\"item4\"></a>\n\n# Increase the number of hidden layers\n\nRepeat part B but use a neural network with the following instead:\n\n- Three hidden layers, each of 10 nodes and ReLU activation function."
        },
        {
            "cell_type": "code",
            "execution_count": 12,
            "metadata": {},
            "outputs": [
                {
                    "name": "stdout",
                    "output_type": "stream",
                    "text": "_________________________________________________________________\nLayer (type)                 Output Shape              Param #   \n=================================================================\ndense_1 (Dense)              (None, 10)                90        \n_________________________________________________________________\ndense_2 (Dense)              (None, 10)                110       \n_________________________________________________________________\ndense_3 (Dense)              (None, 10)                110       \n_________________________________________________________________\ndense_4 (Dense)              (None, 1)                 11        \n=================================================================\nTotal params: 321\nTrainable params: 321\nNon-trainable params: 0\n_________________________________________________________________\nthe mean is 28.7167 and the standard deviation is 15.9229\n"
                }
            ],
            "source": "keras.backend.clear_session()\n\n## build deep neural network\ndeep_model = build_dnn(n_layers=3, n_nodes=10, n_inputs=X.shape[1], activation_func=\"relu\")\n\n## train\nscores[\"D\"] =  model_train(X_norm, y, deep_model)"
        },
        {
            "cell_type": "markdown",
            "metadata": {},
            "source": "The mean of the mean squared errors has decreased compared to the value from part B. Deeper neural network results to better results."
        },
        {
            "cell_type": "code",
            "execution_count": null,
            "metadata": {},
            "outputs": [],
            "source": ""
        }
    ],
    "metadata": {
        "kernelspec": {
            "display_name": "Python 3.6",
            "language": "python",
            "name": "python3"
        },
        "language_info": {
            "codemirror_mode": {
                "name": "ipython",
                "version": 3
            },
            "file_extension": ".py",
            "mimetype": "text/x-python",
            "name": "python",
            "nbconvert_exporter": "python",
            "pygments_lexer": "ipython3",
            "version": "3.6.9"
        }
    },
    "nbformat": 4,
    "nbformat_minor": 1
}