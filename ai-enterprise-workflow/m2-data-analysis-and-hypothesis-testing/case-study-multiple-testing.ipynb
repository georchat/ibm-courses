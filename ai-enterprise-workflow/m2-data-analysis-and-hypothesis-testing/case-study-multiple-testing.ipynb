{
    "cells": [
        {
            "cell_type": "markdown",
            "metadata": {},
            "source": "![ibm cloud logo](./images/ibm-cloud.png)\n\n# Case Study - Multiple testing"
        },
        {
            "cell_type": "code",
            "execution_count": 1,
            "metadata": {},
            "outputs": [
                {
                    "data": {
                        "text/html": "\n        <iframe\n            width=\"600\"\n            height=\"400\"\n            src=\"https://player.vimeo.com/video/355136255\"\n            frameborder=\"0\"\n            allowfullscreen\n        ></iframe>\n        ",
                        "text/plain": "<IPython.lib.display.IFrame at 0x7f2a145d9dd8>"
                    },
                    "execution_count": 1,
                    "metadata": {},
                    "output_type": "execute_result"
                }
            ],
            "source": "from IPython.display import IFrame\nIFrame('https://player.vimeo.com/video/355136255', width=600,height=400)"
        },
        {
            "cell_type": "markdown",
            "metadata": {},
            "source": "### Learning objective\n\n|                                                                     | \n|:--------------------------------------------------------------------|\n| Explain methods for dealing with multiple testing                   |"
        },
        {
            "cell_type": "markdown",
            "metadata": {},
            "source": "## Synopsis\n\nThe management team at AAVAIL is preparing to deploy a large number of teams each tasked with integration into a different new market.  They claim to have a optimized the teams fairly with respect to skills and experience.  They are asking you to come up with a framework to evaluate the makeup of their teams.  They have not finished hiring and creating all of the teams so naturally before you even get the data you wanted to get a head start.\n\nGetting a head start usually involves finding a similar dataset and writing the code in a way that the new data, once obtained can be added with little effort."
        },
        {
            "cell_type": "markdown",
            "metadata": {},
            "source": "When we perform a large number of statistical tests, some will have $p$-values less than the designated level of $\\alpha$ (e.g. 0.05) purely by chance, even if all the null hypotheses are really true.  This is an inherent risk of using inferrential statistics.  Fortunately, there are several techniques to mitigate the risk.\n\nWe are going to look at the 2018 world cup data in this example.  \n\nThe case study is comprised of the following sections:\n\n1. Data Cleaning\n2. Data Visualization\n3. NHT\n4. Adjust NHT results for multiple comparisons\n\nData science work that focuses on creating a predictive model is perhaps the hallmark of the field today, but there are still many use cases where [inferential statistics](https://en.wikipedia.org/wiki/Statistical_inference) are the best tool available. One issue with statistical inference is that there are situations where [performing multiple tests](https://en.wikipedia.org/wiki/Multiple_comparisons_problem) is a  logical way to accomplish a task, but it comes at the expense of an increased rate of false positives or Type I errors.\n\nIn this case study you will apply techniques and knowledge from all of the units in Module 2."
        },
        {
            "cell_type": "markdown",
            "metadata": {},
            "source": "## Running Notebook on IBM Watson"
        },
        {
            "cell_type": "code",
            "execution_count": 2,
            "metadata": {},
            "outputs": [],
            "source": "# The code was removed by Watson Studio for sharing."
        },
        {
            "cell_type": "code",
            "execution_count": 3,
            "metadata": {},
            "outputs": [],
            "source": "# START CODE BLOCK\n# cos2file - takes an object from Cloud Object Storage and writes it to file on container file system.\n# Uses the IBM project_lib library.\n# See https://dataplatform.cloud.ibm.com/docs/content/wsj/analyze-data/project-lib-python.html\n# Arguments:\n# p: project object defined in project token\n# data_path: the directory to write the file\n# filename: name of the file in COS\n\nimport os\ndef cos2file(p,data_path,filename):\n    data_dir = p.project_context.home + data_path\n    if not os.path.exists(data_dir):\n        os.makedirs(data_dir)\n    open( data_dir + '/' + filename, 'wb').write(p.get_file(filename).read())\n\n# file2cos - takes file on container file system and writes it to an object in Cloud Object Storage.\n# Uses the IBM project_lib library.\n# See https://dataplatform.cloud.ibm.com/docs/content/wsj/analyze-data/project-lib-python.html\n# Arguments:\n# p: prooject object defined in project token\n# data_path: the directory to read the file from\n# filename: name of the file on container file system\n\nimport os\ndef file2cos(p,data_path,filename):\n    data_dir = p.project_context.home + data_path\n    path_to_file = data_dir + '/' + filename\n    if os.path.exists(path_to_file):\n        file_object = open(path_to_file, 'rb')\n        p.save_data(filename, file_object, set_project_asset=True, overwrite=True)\n    else:\n        print(\"file2cos error: File not found\")\n# END CODE BLOCK"
        },
        {
            "cell_type": "code",
            "execution_count": 4,
            "metadata": {},
            "outputs": [],
            "source": "cos2file(project, '/data', 'worldcup-2018.csv')"
        },
        {
            "cell_type": "markdown",
            "metadata": {},
            "source": "## Getting started\n\n**This unit is interactive**.  During this unit we encourage you to [open this file as a notebook](https://jupyter-notebook-beginner-guide.readthedocs.io/en/latest).  Download the notebook from the following link then open it locally using a Jupyter server or use your IBM cloud account to login to Watson Studio.  Inside of Waston Studio cloud if you have not already ensure that this notebook is loaded as part of the *project* for this course. As a reminder fill in all of the places in this notebook marked with ***YOUR CODE HERE*** or ***YOUR ANSWER HERE***.  The data and notebook for this unit are available below.\n\n* [m2-u7-case-study.ipynb](m2-u7-case-study.ipynb)\n* [worldcup-2018.csv](./data/worldcup-2018.csv)\n\nThis unit is organized into the following sections:\n\n1. Data Processing\n2. Data Summary\n3. Investigative Visualization\n4. Hypothesis testing\n\n#### Resources\n\n* [Creating or uploading a notebook in IBM cloud](https://dataplatform.cloud.ibm.com/docs/content/wsj/analyze-data/creating-notebooks.html)\n* [Resources for multiple testing in Python](https://www.statsmodels.org/stable/generated/statsmodels.stats.multitest.multipletests.html)"
        },
        {
            "cell_type": "code",
            "execution_count": 5,
            "metadata": {},
            "outputs": [],
            "source": "import os\nimport re\nimport numpy as np\nimport pandas as pd\nimport scipy.stats as stats\nimport statsmodels as sm\n\nimport matplotlib.pyplot as plt\nplt.style.use('seaborn')\n\n%matplotlib inline\n\nSMALL_SIZE = 8\nMEDIUM_SIZE = 10\nLARGE_SIZE = 12\n\nplt.rc('font', size=SMALL_SIZE)          # controls default text sizes\nplt.rc('axes', titlesize=SMALL_SIZE)     # fontsize of the axes title\nplt.rc('axes', labelsize=MEDIUM_SIZE)    # fontsize of the x and y labels\nplt.rc('xtick', labelsize=SMALL_SIZE)    # fontsize of the tick labels\nplt.rc('ytick', labelsize=SMALL_SIZE)    # fontsize of the tick labels\nplt.rc('legend', fontsize=SMALL_SIZE)    # legend fontsize\nplt.rc('figure', titlesize=LARGE_SIZE)   # fontsize of the figure title"
        },
        {
            "cell_type": "markdown",
            "metadata": {},
            "source": "## Import the Data"
        },
        {
            "cell_type": "markdown",
            "metadata": {},
            "source": "Before we jump into the data it can be useful to give a little background so that you can better understand the features.  Since the dawn of statistics practitioners have been trying to find advantages when it comes to games.  Much of this was motivated by gambling---here we will look at the results from this tournament in a different way.  We are going to ask the simple question\n\n  >Was the tournament setup in a fair way?\n\nOf course the findings from an investigation centering around this question could be used to strategically place bets, but lets assume that we are simply interested in whether or not the tournament organizers did an adequate job.  The reason for doing this is to prepare for the AAVAIL data that is coming.  This exercise is an important reminder that you do not have to wait until the day that data arrive to start your work. \n\nThere are 32 teams, each representing a single country, that compete in groups or pools then the best teams from those groups compete in a single elimination tournament to see who will become world champions.  This is by far the world's most popular sport so one would hope that the governing organization FIFA did a good job composing the pools.  If for example there are 8 highly ranked teams then each of those teams should be in a different pool. \n\nIn our data set we have more than just rank so we can dig in a little deeper than that, but first let's have a look at the data."
        },
        {
            "cell_type": "code",
            "execution_count": 6,
            "metadata": {},
            "outputs": [
                {
                    "data": {
                        "text/html": "<div>\n<style scoped>\n    .dataframe tbody tr th:only-of-type {\n        vertical-align: middle;\n    }\n\n    .dataframe tbody tr th {\n        vertical-align: top;\n    }\n\n    .dataframe thead th {\n        text-align: right;\n    }\n</style>\n<table border=\"1\" class=\"dataframe\">\n  <thead>\n    <tr style=\"text-align: right;\">\n      <th></th>\n      <th>team</th>\n      <th>group</th>\n      <th>previous_appearances</th>\n      <th>previous_titles</th>\n      <th>previous_finals</th>\n      <th>previous_semifinals</th>\n      <th>current_fifa_rank</th>\n      <th>first_match_against</th>\n      <th>match_index</th>\n      <th>history_with_first_opponent_w-l</th>\n      <th>history_with_first_opponent_goals</th>\n      <th>second_match_against</th>\n      <th>match_index.1</th>\n      <th>history_with_second_opponent_w-l</th>\n      <th>history_with_second_opponent_goals</th>\n      <th>third_match_against</th>\n      <th>match_index.2</th>\n      <th>history_with_third_opponent_w-l</th>\n      <th>history_with_third_opponent_goals</th>\n      <th>unnamed:_19</th>\n    </tr>\n  </thead>\n  <tbody>\n    <tr>\n      <th>0</th>\n      <td>Russia</td>\n      <td>A</td>\n      <td>10</td>\n      <td>0</td>\n      <td>0</td>\n      <td>1</td>\n      <td>65</td>\n      <td>Saudi Arabia</td>\n      <td>1</td>\n      <td>-1.0</td>\n      <td>-2.0</td>\n      <td>Egypt</td>\n      <td>17</td>\n      <td>NaN</td>\n      <td>NaN</td>\n      <td>Uruguay</td>\n      <td>33</td>\n      <td>0.0</td>\n      <td>0.0</td>\n      <td>NaN</td>\n    </tr>\n    <tr>\n      <th>1</th>\n      <td>Saudi Arabia</td>\n      <td>A</td>\n      <td>4</td>\n      <td>0</td>\n      <td>0</td>\n      <td>0</td>\n      <td>63</td>\n      <td>Russia</td>\n      <td>1</td>\n      <td>1.0</td>\n      <td>2.0</td>\n      <td>Uruguay</td>\n      <td>18</td>\n      <td>1.0</td>\n      <td>1.0</td>\n      <td>Egypt</td>\n      <td>34</td>\n      <td>-5.0</td>\n      <td>-5.0</td>\n      <td>NaN</td>\n    </tr>\n    <tr>\n      <th>2</th>\n      <td>Egypt</td>\n      <td>A</td>\n      <td>2</td>\n      <td>0</td>\n      <td>0</td>\n      <td>0</td>\n      <td>31</td>\n      <td>Uruguay</td>\n      <td>2</td>\n      <td>-1.0</td>\n      <td>-2.0</td>\n      <td>Russia</td>\n      <td>17</td>\n      <td>NaN</td>\n      <td>NaN</td>\n      <td>Saudi Arabia</td>\n      <td>34</td>\n      <td>5.0</td>\n      <td>5.0</td>\n      <td>NaN</td>\n    </tr>\n    <tr>\n      <th>3</th>\n      <td>Uruguay</td>\n      <td>A</td>\n      <td>12</td>\n      <td>2</td>\n      <td>2</td>\n      <td>5</td>\n      <td>21</td>\n      <td>Egypt</td>\n      <td>2</td>\n      <td>1.0</td>\n      <td>2.0</td>\n      <td>Saudi Arabia</td>\n      <td>18</td>\n      <td>-1.0</td>\n      <td>-1.0</td>\n      <td>Russia</td>\n      <td>33</td>\n      <td>0.0</td>\n      <td>0.0</td>\n      <td>NaN</td>\n    </tr>\n    <tr>\n      <th>4</th>\n      <td>Porugal</td>\n      <td>B</td>\n      <td>6</td>\n      <td>0</td>\n      <td>0</td>\n      <td>2</td>\n      <td>3</td>\n      <td>Spain</td>\n      <td>3</td>\n      <td>-12.0</td>\n      <td>-31.0</td>\n      <td>Morocco</td>\n      <td>19</td>\n      <td>-1.0</td>\n      <td>-2.0</td>\n      <td>Iran</td>\n      <td>35</td>\n      <td>2.0</td>\n      <td>5.0</td>\n      <td>NaN</td>\n    </tr>\n  </tbody>\n</table>\n</div>",
                        "text/plain": "           team group  previous_appearances  previous_titles  previous_finals  \\\n0        Russia     A                    10                0                0   \n1  Saudi Arabia     A                     4                0                0   \n2         Egypt     A                     2                0                0   \n3       Uruguay     A                    12                2                2   \n4       Porugal     B                     6                0                0   \n\n   previous_semifinals  current_fifa_rank first_match_against  match_index  \\\n0                    1                 65        Saudi Arabia            1   \n1                    0                 63              Russia            1   \n2                    0                 31             Uruguay            2   \n3                    5                 21               Egypt            2   \n4                    2                  3               Spain            3   \n\n   history_with_first_opponent_w-l  history_with_first_opponent_goals  \\\n0                             -1.0                               -2.0   \n1                              1.0                                2.0   \n2                             -1.0                               -2.0   \n3                              1.0                                2.0   \n4                            -12.0                              -31.0   \n\n  second_match_against  match_index.1  history_with_second_opponent_w-l  \\\n0                Egypt             17                               NaN   \n1              Uruguay             18                               1.0   \n2               Russia             17                               NaN   \n3         Saudi Arabia             18                              -1.0   \n4              Morocco             19                              -1.0   \n\n   history_with_second_opponent_goals third_match_against  match_index.2  \\\n0                                 NaN             Uruguay             33   \n1                                 1.0               Egypt             34   \n2                                 NaN        Saudi Arabia             34   \n3                                -1.0              Russia             33   \n4                                -2.0                Iran             35   \n\n   history_with_third_opponent_w-l  history_with_third_opponent_goals  \\\n0                              0.0                                0.0   \n1                             -5.0                               -5.0   \n2                              5.0                                5.0   \n3                              0.0                                0.0   \n4                              2.0                                5.0   \n\n   unnamed:_19  \n0          NaN  \n1          NaN  \n2          NaN  \n3          NaN  \n4          NaN  "
                    },
                    "execution_count": 6,
                    "metadata": {},
                    "output_type": "execute_result"
                }
            ],
            "source": "DATA_DIR = os.path.join(\"..\",\"data\")\ndf = pd.read_csv(os.path.join(DATA_DIR, 'worldcup-2018.csv'))\ndf.columns = [re.sub(\"\\s+\",\"_\",col.lower()) for col in df.columns]\ndf.head()"
        },
        {
            "cell_type": "code",
            "execution_count": 7,
            "metadata": {},
            "outputs": [
                {
                    "name": "stdout",
                    "output_type": "stream",
                    "text": "<class 'pandas.core.frame.DataFrame'>\nRangeIndex: 32 entries, 0 to 31\nData columns (total 20 columns):\nteam                                  32 non-null object\ngroup                                 32 non-null object\nprevious_appearances                  32 non-null int64\nprevious_titles                       32 non-null int64\nprevious_finals                       32 non-null int64\nprevious_semifinals                   32 non-null int64\ncurrent_fifa_rank                     32 non-null int64\nfirst_match_against                   32 non-null object\nmatch_index                           32 non-null int64\nhistory_with_first_opponent_w-l       20 non-null float64\nhistory_with_first_opponent_goals     20 non-null float64\nsecond_match_against                  32 non-null object\nmatch_index.1                         32 non-null int64\nhistory_with_second_opponent_w-l      22 non-null float64\nhistory_with_second_opponent_goals    22 non-null float64\nthird_match_against                   32 non-null object\nmatch_index.2                         32 non-null int64\nhistory_with_third_opponent_w-l       28 non-null float64\nhistory_with_third_opponent_goals     28 non-null float64\nunnamed:_19                           0 non-null float64\ndtypes: float64(7), int64(8), object(5)\nmemory usage: 5.1+ KB\n"
                }
            ],
            "source": "df.info()"
        },
        {
            "cell_type": "markdown",
            "metadata": {},
            "source": "To limit the dataset for educational purposes we create a new data frame that consists of only the following columns: \n\n* team\n* group\n* previous_appearances\n* previous_titles\n* previous_finals\n* previous_semifinals\n* current_fifa_rank"
        },
        {
            "cell_type": "markdown",
            "metadata": {},
            "source": "## Data Processing\n\n### QUESTION 1\n\nUsing the column names below create a new dataframe that uses only them."
        },
        {
            "cell_type": "code",
            "execution_count": 8,
            "metadata": {},
            "outputs": [
                {
                    "data": {
                        "text/html": "<div>\n<style scoped>\n    .dataframe tbody tr th:only-of-type {\n        vertical-align: middle;\n    }\n\n    .dataframe tbody tr th {\n        vertical-align: top;\n    }\n\n    .dataframe thead th {\n        text-align: right;\n    }\n</style>\n<table border=\"1\" class=\"dataframe\">\n  <thead>\n    <tr style=\"text-align: right;\">\n      <th></th>\n      <th>team</th>\n      <th>group</th>\n      <th>previous_appearances</th>\n      <th>previous_titles</th>\n      <th>previous_finals</th>\n      <th>previous_semifinals</th>\n      <th>current_fifa_rank</th>\n    </tr>\n  </thead>\n  <tbody>\n    <tr>\n      <th>0</th>\n      <td>Russia</td>\n      <td>A</td>\n      <td>10</td>\n      <td>0</td>\n      <td>0</td>\n      <td>1</td>\n      <td>65</td>\n    </tr>\n    <tr>\n      <th>1</th>\n      <td>Saudi Arabia</td>\n      <td>A</td>\n      <td>4</td>\n      <td>0</td>\n      <td>0</td>\n      <td>0</td>\n      <td>63</td>\n    </tr>\n    <tr>\n      <th>2</th>\n      <td>Egypt</td>\n      <td>A</td>\n      <td>2</td>\n      <td>0</td>\n      <td>0</td>\n      <td>0</td>\n      <td>31</td>\n    </tr>\n    <tr>\n      <th>3</th>\n      <td>Uruguay</td>\n      <td>A</td>\n      <td>12</td>\n      <td>2</td>\n      <td>2</td>\n      <td>5</td>\n      <td>21</td>\n    </tr>\n    <tr>\n      <th>4</th>\n      <td>Porugal</td>\n      <td>B</td>\n      <td>6</td>\n      <td>0</td>\n      <td>0</td>\n      <td>2</td>\n      <td>3</td>\n    </tr>\n  </tbody>\n</table>\n</div>",
                        "text/plain": "           team group  previous_appearances  previous_titles  previous_finals  \\\n0        Russia     A                    10                0                0   \n1  Saudi Arabia     A                     4                0                0   \n2         Egypt     A                     2                0                0   \n3       Uruguay     A                    12                2                2   \n4       Porugal     B                     6                0                0   \n\n   previous_semifinals  current_fifa_rank  \n0                    1                 65  \n1                    0                 63  \n2                    0                 31  \n3                    5                 21  \n4                    2                  3  "
                    },
                    "execution_count": 8,
                    "metadata": {},
                    "output_type": "execute_result"
                }
            ],
            "source": "columns = ['team', 'group','previous_appearances','previous_titles','previous_finals',\n           'previous_semifinals','current_fifa_rank']\n\ndataset = df[columns].copy()\ndataset.head()"
        },
        {
            "cell_type": "markdown",
            "metadata": {},
            "source": "To help with this analysis we are going to engineer a feature that combines all of the data in the table.  This feature represents the past performance of a team.  Given the data we have it is the best proxy on hand for how good a team will perfom.  Feel free to change the multiplers, but let's just say that `past_performance` will be a linear combination of the related features we have.\n\nLet $X_{1}$,...,$X_{4}$ be `previous_titles`,`previous_finals`,`previous_semifinals`,`previous_appearances` and let the corresponding vector $\\mathbf{\\alpha}$ be the multipliers.  This will give us,\n\n$$\n\\textrm{past_performance} = \\alpha_{1} X_{1} + \\alpha_{2} X_{2} + \\alpha_{3} X_{3} + \\alpha_{4} X_{4}\n$$\n\nModify $\\mathbf{\\alpha}$ if you wish.  Then add to your dataframe the new feature `past_performance`.\n\n### QUESTION 2\n\ncreate the engineered feature as a new column"
        },
        {
            "cell_type": "code",
            "execution_count": 9,
            "metadata": {},
            "outputs": [
                {
                    "name": "stdout",
                    "output_type": "stream",
                    "text": "(4,)\n(32, 4)\n"
                },
                {
                    "data": {
                        "text/html": "<div>\n<style scoped>\n    .dataframe tbody tr th:only-of-type {\n        vertical-align: middle;\n    }\n\n    .dataframe tbody tr th {\n        vertical-align: top;\n    }\n\n    .dataframe thead th {\n        text-align: right;\n    }\n</style>\n<table border=\"1\" class=\"dataframe\">\n  <thead>\n    <tr style=\"text-align: right;\">\n      <th></th>\n      <th>team</th>\n      <th>group</th>\n      <th>previous_appearances</th>\n      <th>previous_titles</th>\n      <th>previous_finals</th>\n      <th>previous_semifinals</th>\n      <th>current_fifa_rank</th>\n      <th>past_performance</th>\n    </tr>\n  </thead>\n  <tbody>\n    <tr>\n      <th>0</th>\n      <td>Russia</td>\n      <td>A</td>\n      <td>10</td>\n      <td>0</td>\n      <td>0</td>\n      <td>1</td>\n      <td>65</td>\n      <td>14</td>\n    </tr>\n    <tr>\n      <th>1</th>\n      <td>Saudi Arabia</td>\n      <td>A</td>\n      <td>4</td>\n      <td>0</td>\n      <td>0</td>\n      <td>0</td>\n      <td>63</td>\n      <td>4</td>\n    </tr>\n    <tr>\n      <th>2</th>\n      <td>Egypt</td>\n      <td>A</td>\n      <td>2</td>\n      <td>0</td>\n      <td>0</td>\n      <td>0</td>\n      <td>31</td>\n      <td>2</td>\n    </tr>\n    <tr>\n      <th>3</th>\n      <td>Uruguay</td>\n      <td>A</td>\n      <td>12</td>\n      <td>2</td>\n      <td>2</td>\n      <td>5</td>\n      <td>21</td>\n      <td>80</td>\n    </tr>\n    <tr>\n      <th>4</th>\n      <td>Porugal</td>\n      <td>B</td>\n      <td>6</td>\n      <td>0</td>\n      <td>0</td>\n      <td>2</td>\n      <td>3</td>\n      <td>14</td>\n    </tr>\n  </tbody>\n</table>\n</div>",
                        "text/plain": "           team group  previous_appearances  previous_titles  previous_finals  \\\n0        Russia     A                    10                0                0   \n1  Saudi Arabia     A                     4                0                0   \n2         Egypt     A                     2                0                0   \n3       Uruguay     A                    12                2                2   \n4       Porugal     B                     6                0                0   \n\n   previous_semifinals  current_fifa_rank  past_performance  \n0                    1                 65                14  \n1                    0                 63                 4  \n2                    0                 31                 2  \n3                    5                 21                80  \n4                    2                  3                14  "
                    },
                    "execution_count": 9,
                    "metadata": {},
                    "output_type": "execute_result"
                }
            ],
            "source": "alpha = np.array([16,8,4,1])\n\nprint(alpha.shape)\n\nX = dataset[[\"previous_titles\", \"previous_finals\", \"previous_semifinals\", \"previous_appearances\"]].values\nprint(X.shape)\n\ndataset[\"past_performance\"] = np.dot(X, alpha)\ndataset.head()"
        },
        {
            "cell_type": "markdown",
            "metadata": {},
            "source": "## Data Summary"
        },
        {
            "cell_type": "markdown",
            "metadata": {},
            "source": "### QUESTION 3\n\nUsing your choice of tools create one or more **tabular summaries** of the data"
        },
        {
            "cell_type": "markdown",
            "metadata": {},
            "source": "I will start with getting more insights into the data set and understand the data structure. First, I want to see the total number of rows and columns as well as the different types of features."
        },
        {
            "cell_type": "code",
            "execution_count": 10,
            "metadata": {},
            "outputs": [
                {
                    "name": "stdout",
                    "output_type": "stream",
                    "text": "<class 'pandas.core.frame.DataFrame'>\nRangeIndex: 32 entries, 0 to 31\nData columns (total 8 columns):\nteam                    32 non-null object\ngroup                   32 non-null object\nprevious_appearances    32 non-null int64\nprevious_titles         32 non-null int64\nprevious_finals         32 non-null int64\nprevious_semifinals     32 non-null int64\ncurrent_fifa_rank       32 non-null int64\npast_performance        32 non-null int64\ndtypes: int64(6), object(2)\nmemory usage: 2.1+ KB\n"
                }
            ],
            "source": "dataset.info()"
        },
        {
            "cell_type": "markdown",
            "metadata": {},
            "source": "The dataset has 32 rows and 8 columns. The features `team` and `group` are of type `object`, the rest is type `int62`."
        },
        {
            "cell_type": "markdown",
            "metadata": {},
            "source": "Let's see some general statistics about the numerical features in the dataset."
        },
        {
            "cell_type": "code",
            "execution_count": 11,
            "metadata": {},
            "outputs": [
                {
                    "data": {
                        "text/html": "<div>\n<style scoped>\n    .dataframe tbody tr th:only-of-type {\n        vertical-align: middle;\n    }\n\n    .dataframe tbody tr th {\n        vertical-align: top;\n    }\n\n    .dataframe thead th {\n        text-align: right;\n    }\n</style>\n<table border=\"1\" class=\"dataframe\">\n  <thead>\n    <tr style=\"text-align: right;\">\n      <th></th>\n      <th>previous_appearances</th>\n      <th>previous_titles</th>\n      <th>previous_finals</th>\n      <th>previous_semifinals</th>\n      <th>current_fifa_rank</th>\n      <th>past_performance</th>\n    </tr>\n  </thead>\n  <tbody>\n    <tr>\n      <th>count</th>\n      <td>32.000000</td>\n      <td>32.000000</td>\n      <td>32.000000</td>\n      <td>32.000000</td>\n      <td>32.000000</td>\n      <td>32.000000</td>\n    </tr>\n    <tr>\n      <th>mean</th>\n      <td>7.906250</td>\n      <td>0.500000</td>\n      <td>0.843750</td>\n      <td>1.781250</td>\n      <td>24.781250</td>\n      <td>29.781250</td>\n    </tr>\n    <tr>\n      <th>std</th>\n      <td>5.426098</td>\n      <td>1.191367</td>\n      <td>2.017814</td>\n      <td>3.128788</td>\n      <td>19.536128</td>\n      <td>51.021649</td>\n    </tr>\n    <tr>\n      <th>min</th>\n      <td>0.000000</td>\n      <td>0.000000</td>\n      <td>0.000000</td>\n      <td>0.000000</td>\n      <td>1.000000</td>\n      <td>0.000000</td>\n    </tr>\n    <tr>\n      <th>25%</th>\n      <td>4.000000</td>\n      <td>0.000000</td>\n      <td>0.000000</td>\n      <td>0.000000</td>\n      <td>8.750000</td>\n      <td>4.000000</td>\n    </tr>\n    <tr>\n      <th>50%</th>\n      <td>5.500000</td>\n      <td>0.000000</td>\n      <td>0.000000</td>\n      <td>0.000000</td>\n      <td>19.500000</td>\n      <td>9.000000</td>\n    </tr>\n    <tr>\n      <th>75%</th>\n      <td>12.000000</td>\n      <td>0.000000</td>\n      <td>0.250000</td>\n      <td>2.000000</td>\n      <td>37.500000</td>\n      <td>23.000000</td>\n    </tr>\n    <tr>\n      <th>max</th>\n      <td>20.000000</td>\n      <td>5.000000</td>\n      <td>8.000000</td>\n      <td>13.000000</td>\n      <td>65.000000</td>\n      <td>200.000000</td>\n    </tr>\n  </tbody>\n</table>\n</div>",
                        "text/plain": "       previous_appearances  previous_titles  previous_finals  \\\ncount             32.000000        32.000000        32.000000   \nmean               7.906250         0.500000         0.843750   \nstd                5.426098         1.191367         2.017814   \nmin                0.000000         0.000000         0.000000   \n25%                4.000000         0.000000         0.000000   \n50%                5.500000         0.000000         0.000000   \n75%               12.000000         0.000000         0.250000   \nmax               20.000000         5.000000         8.000000   \n\n       previous_semifinals  current_fifa_rank  past_performance  \ncount            32.000000          32.000000         32.000000  \nmean              1.781250          24.781250         29.781250  \nstd               3.128788          19.536128         51.021649  \nmin               0.000000           1.000000          0.000000  \n25%               0.000000           8.750000          4.000000  \n50%               0.000000          19.500000          9.000000  \n75%               2.000000          37.500000         23.000000  \nmax              13.000000          65.000000        200.000000  "
                    },
                    "execution_count": 11,
                    "metadata": {},
                    "output_type": "execute_result"
                }
            ],
            "source": "dataset.describe()"
        },
        {
            "cell_type": "markdown",
            "metadata": {},
            "source": "The dataset has different scales"
        },
        {
            "cell_type": "markdown",
            "metadata": {},
            "source": "Let's get the top five teams based on the past performance"
        },
        {
            "cell_type": "code",
            "execution_count": 12,
            "metadata": {},
            "outputs": [
                {
                    "data": {
                        "text/html": "<div>\n<style scoped>\n    .dataframe tbody tr th:only-of-type {\n        vertical-align: middle;\n    }\n\n    .dataframe tbody tr th {\n        vertical-align: top;\n    }\n\n    .dataframe thead th {\n        text-align: right;\n    }\n</style>\n<table border=\"1\" class=\"dataframe\">\n  <thead>\n    <tr style=\"text-align: right;\">\n      <th></th>\n      <th>team</th>\n      <th>group</th>\n      <th>previous_appearances</th>\n      <th>previous_titles</th>\n      <th>previous_finals</th>\n      <th>previous_semifinals</th>\n      <th>current_fifa_rank</th>\n      <th>past_performance</th>\n    </tr>\n  </thead>\n  <tbody>\n    <tr>\n      <th>16</th>\n      <td>Brazil</td>\n      <td>E</td>\n      <td>20</td>\n      <td>5</td>\n      <td>7</td>\n      <td>11</td>\n      <td>2</td>\n      <td>200</td>\n    </tr>\n    <tr>\n      <th>20</th>\n      <td>Germany</td>\n      <td>F</td>\n      <td>18</td>\n      <td>4</td>\n      <td>8</td>\n      <td>13</td>\n      <td>1</td>\n      <td>198</td>\n    </tr>\n    <tr>\n      <th>12</th>\n      <td>Argentina</td>\n      <td>D</td>\n      <td>16</td>\n      <td>2</td>\n      <td>5</td>\n      <td>5</td>\n      <td>4</td>\n      <td>108</td>\n    </tr>\n    <tr>\n      <th>3</th>\n      <td>Uruguay</td>\n      <td>A</td>\n      <td>12</td>\n      <td>2</td>\n      <td>2</td>\n      <td>5</td>\n      <td>21</td>\n      <td>80</td>\n    </tr>\n    <tr>\n      <th>8</th>\n      <td>France</td>\n      <td>C</td>\n      <td>14</td>\n      <td>1</td>\n      <td>2</td>\n      <td>5</td>\n      <td>9</td>\n      <td>66</td>\n    </tr>\n  </tbody>\n</table>\n</div>",
                        "text/plain": "         team group  previous_appearances  previous_titles  previous_finals  \\\n16     Brazil     E                    20                5                7   \n20    Germany     F                    18                4                8   \n12  Argentina     D                    16                2                5   \n3     Uruguay     A                    12                2                2   \n8      France     C                    14                1                2   \n\n    previous_semifinals  current_fifa_rank  past_performance  \n16                   11                  2               200  \n20                   13                  1               198  \n12                    5                  4               108  \n3                     5                 21                80  \n8                     5                  9                66  "
                    },
                    "execution_count": 12,
                    "metadata": {},
                    "output_type": "execute_result"
                }
            ],
            "source": "dataset.sort_values(\"past_performance\", ascending=False).head(5)"
        },
        {
            "cell_type": "markdown",
            "metadata": {},
            "source": "It would be interesting to see the average past performance in each group."
        },
        {
            "cell_type": "code",
            "execution_count": 13,
            "metadata": {},
            "outputs": [
                {
                    "data": {
                        "text/html": "<div>\n<style scoped>\n    .dataframe tbody tr th:only-of-type {\n        vertical-align: middle;\n    }\n\n    .dataframe tbody tr th {\n        vertical-align: top;\n    }\n\n    .dataframe thead th {\n        text-align: right;\n    }\n</style>\n<table border=\"1\" class=\"dataframe\">\n  <thead>\n    <tr style=\"text-align: right;\">\n      <th></th>\n      <th>past_performance</th>\n    </tr>\n    <tr>\n      <th>group</th>\n      <th></th>\n    </tr>\n  </thead>\n  <tbody>\n    <tr>\n      <th>A</th>\n      <td>25.00</td>\n    </tr>\n    <tr>\n      <th>B</th>\n      <td>17.00</td>\n    </tr>\n    <tr>\n      <th>C</th>\n      <td>19.50</td>\n    </tr>\n    <tr>\n      <th>D</th>\n      <td>30.25</td>\n    </tr>\n    <tr>\n      <th>E</th>\n      <td>58.25</td>\n    </tr>\n    <tr>\n      <th>F</th>\n      <td>65.25</td>\n    </tr>\n    <tr>\n      <th>G</th>\n      <td>16.50</td>\n    </tr>\n    <tr>\n      <th>H</th>\n      <td>6.50</td>\n    </tr>\n  </tbody>\n</table>\n</div>",
                        "text/plain": "       past_performance\ngroup                  \nA                 25.00\nB                 17.00\nC                 19.50\nD                 30.25\nE                 58.25\nF                 65.25\nG                 16.50\nH                  6.50"
                    },
                    "execution_count": 13,
                    "metadata": {},
                    "output_type": "execute_result"
                }
            ],
            "source": "pd.pivot_table(dataset, index = ['group'], values = 'past_performance', aggfunc=\"mean\")"
        },
        {
            "cell_type": "code",
            "execution_count": 14,
            "metadata": {},
            "outputs": [
                {
                    "data": {
                        "text/html": "<div>\n<style scoped>\n    .dataframe tbody tr th:only-of-type {\n        vertical-align: middle;\n    }\n\n    .dataframe tbody tr th {\n        vertical-align: top;\n    }\n\n    .dataframe thead th {\n        text-align: right;\n    }\n</style>\n<table border=\"1\" class=\"dataframe\">\n  <thead>\n    <tr style=\"text-align: right;\">\n      <th></th>\n      <th>past_performance</th>\n    </tr>\n    <tr>\n      <th>group</th>\n      <th></th>\n    </tr>\n  </thead>\n  <tbody>\n    <tr>\n      <th>A</th>\n      <td>37.040518</td>\n    </tr>\n    <tr>\n      <th>B</th>\n      <td>19.899749</td>\n    </tr>\n    <tr>\n      <th>C</th>\n      <td>31.000000</td>\n    </tr>\n    <tr>\n      <th>D</th>\n      <td>51.938265</td>\n    </tr>\n    <tr>\n      <th>E</th>\n      <td>94.700845</td>\n    </tr>\n    <tr>\n      <th>F</th>\n      <td>89.055694</td>\n    </tr>\n    <tr>\n      <th>G</th>\n      <td>20.808652</td>\n    </tr>\n    <tr>\n      <th>H</th>\n      <td>5.972158</td>\n    </tr>\n  </tbody>\n</table>\n</div>",
                        "text/plain": "       past_performance\ngroup                  \nA             37.040518\nB             19.899749\nC             31.000000\nD             51.938265\nE             94.700845\nF             89.055694\nG             20.808652\nH              5.972158"
                    },
                    "execution_count": 14,
                    "metadata": {},
                    "output_type": "execute_result"
                }
            ],
            "source": "pd.pivot_table(dataset, index = ['group'], values = 'past_performance', aggfunc=\"std\")"
        },
        {
            "cell_type": "markdown",
            "metadata": {},
            "source": "Group F has the highest score based on the past performance and Group E the highest standard deviation."
        },
        {
            "cell_type": "code",
            "execution_count": 15,
            "metadata": {},
            "outputs": [
                {
                    "data": {
                        "text/html": "<div>\n<style scoped>\n    .dataframe tbody tr th:only-of-type {\n        vertical-align: middle;\n    }\n\n    .dataframe tbody tr th {\n        vertical-align: top;\n    }\n\n    .dataframe thead th {\n        text-align: right;\n    }\n</style>\n<table border=\"1\" class=\"dataframe\">\n  <thead>\n    <tr style=\"text-align: right;\">\n      <th></th>\n      <th>team</th>\n      <th>group</th>\n      <th>previous_appearances</th>\n      <th>previous_titles</th>\n      <th>previous_finals</th>\n      <th>previous_semifinals</th>\n      <th>current_fifa_rank</th>\n      <th>past_performance</th>\n    </tr>\n  </thead>\n  <tbody>\n    <tr>\n      <th>20</th>\n      <td>Germany</td>\n      <td>F</td>\n      <td>18</td>\n      <td>4</td>\n      <td>8</td>\n      <td>13</td>\n      <td>1</td>\n      <td>198</td>\n    </tr>\n    <tr>\n      <th>21</th>\n      <td>Mexico</td>\n      <td>F</td>\n      <td>15</td>\n      <td>0</td>\n      <td>0</td>\n      <td>0</td>\n      <td>16</td>\n      <td>15</td>\n    </tr>\n    <tr>\n      <th>22</th>\n      <td>Sweden</td>\n      <td>F</td>\n      <td>11</td>\n      <td>0</td>\n      <td>1</td>\n      <td>4</td>\n      <td>18</td>\n      <td>35</td>\n    </tr>\n    <tr>\n      <th>23</th>\n      <td>Korea</td>\n      <td>F</td>\n      <td>9</td>\n      <td>0</td>\n      <td>0</td>\n      <td>1</td>\n      <td>59</td>\n      <td>13</td>\n    </tr>\n  </tbody>\n</table>\n</div>",
                        "text/plain": "       team group  previous_appearances  previous_titles  previous_finals  \\\n20  Germany     F                    18                4                8   \n21   Mexico     F                    15                0                0   \n22   Sweden     F                    11                0                1   \n23    Korea     F                     9                0                0   \n\n    previous_semifinals  current_fifa_rank  past_performance  \n20                   13                  1               198  \n21                    0                 16                15  \n22                    4                 18                35  \n23                    1                 59                13  "
                    },
                    "execution_count": 15,
                    "metadata": {},
                    "output_type": "execute_result"
                }
            ],
            "source": "dataset[dataset.group==\"F\"]"
        },
        {
            "cell_type": "code",
            "execution_count": 16,
            "metadata": {},
            "outputs": [
                {
                    "data": {
                        "text/html": "<div>\n<style scoped>\n    .dataframe tbody tr th:only-of-type {\n        vertical-align: middle;\n    }\n\n    .dataframe tbody tr th {\n        vertical-align: top;\n    }\n\n    .dataframe thead th {\n        text-align: right;\n    }\n</style>\n<table border=\"1\" class=\"dataframe\">\n  <thead>\n    <tr style=\"text-align: right;\">\n      <th></th>\n      <th>team</th>\n      <th>group</th>\n      <th>previous_appearances</th>\n      <th>previous_titles</th>\n      <th>previous_finals</th>\n      <th>previous_semifinals</th>\n      <th>current_fifa_rank</th>\n      <th>past_performance</th>\n    </tr>\n  </thead>\n  <tbody>\n    <tr>\n      <th>16</th>\n      <td>Brazil</td>\n      <td>E</td>\n      <td>20</td>\n      <td>5</td>\n      <td>7</td>\n      <td>11</td>\n      <td>2</td>\n      <td>200</td>\n    </tr>\n    <tr>\n      <th>17</th>\n      <td>Switzerland</td>\n      <td>E</td>\n      <td>10</td>\n      <td>0</td>\n      <td>0</td>\n      <td>0</td>\n      <td>8</td>\n      <td>10</td>\n    </tr>\n    <tr>\n      <th>18</th>\n      <td>Costarica</td>\n      <td>E</td>\n      <td>4</td>\n      <td>0</td>\n      <td>0</td>\n      <td>0</td>\n      <td>26</td>\n      <td>4</td>\n    </tr>\n    <tr>\n      <th>19</th>\n      <td>Serbia</td>\n      <td>E</td>\n      <td>11</td>\n      <td>0</td>\n      <td>0</td>\n      <td>2</td>\n      <td>37</td>\n      <td>19</td>\n    </tr>\n  </tbody>\n</table>\n</div>",
                        "text/plain": "           team group  previous_appearances  previous_titles  previous_finals  \\\n16       Brazil     E                    20                5                7   \n17  Switzerland     E                    10                0                0   \n18    Costarica     E                     4                0                0   \n19       Serbia     E                    11                0                0   \n\n    previous_semifinals  current_fifa_rank  past_performance  \n16                   11                  2               200  \n17                    0                  8                10  \n18                    0                 26                 4  \n19                    2                 37                19  "
                    },
                    "execution_count": 16,
                    "metadata": {},
                    "output_type": "execute_result"
                }
            ],
            "source": "dataset[dataset.group==\"E\"]"
        },
        {
            "cell_type": "markdown",
            "metadata": {},
            "source": "### QUESTION 4\n\nCheck for missing data. Write code to identify if there is any missing data."
        },
        {
            "cell_type": "code",
            "execution_count": 17,
            "metadata": {},
            "outputs": [
                {
                    "data": {
                        "text/html": "<div>\n<style scoped>\n    .dataframe tbody tr th:only-of-type {\n        vertical-align: middle;\n    }\n\n    .dataframe tbody tr th {\n        vertical-align: top;\n    }\n\n    .dataframe thead th {\n        text-align: right;\n    }\n</style>\n<table border=\"1\" class=\"dataframe\">\n  <thead>\n    <tr style=\"text-align: right;\">\n      <th></th>\n      <th>Total</th>\n      <th>Percent</th>\n    </tr>\n  </thead>\n  <tbody>\n    <tr>\n      <th>past_performance</th>\n      <td>0</td>\n      <td>0.0</td>\n    </tr>\n    <tr>\n      <th>current_fifa_rank</th>\n      <td>0</td>\n      <td>0.0</td>\n    </tr>\n    <tr>\n      <th>previous_semifinals</th>\n      <td>0</td>\n      <td>0.0</td>\n    </tr>\n    <tr>\n      <th>previous_finals</th>\n      <td>0</td>\n      <td>0.0</td>\n    </tr>\n    <tr>\n      <th>previous_titles</th>\n      <td>0</td>\n      <td>0.0</td>\n    </tr>\n    <tr>\n      <th>previous_appearances</th>\n      <td>0</td>\n      <td>0.0</td>\n    </tr>\n    <tr>\n      <th>group</th>\n      <td>0</td>\n      <td>0.0</td>\n    </tr>\n    <tr>\n      <th>team</th>\n      <td>0</td>\n      <td>0.0</td>\n    </tr>\n  </tbody>\n</table>\n</div>",
                        "text/plain": "                      Total  Percent\npast_performance          0      0.0\ncurrent_fifa_rank         0      0.0\nprevious_semifinals       0      0.0\nprevious_finals           0      0.0\nprevious_titles           0      0.0\nprevious_appearances      0      0.0\ngroup                     0      0.0\nteam                      0      0.0"
                    },
                    "execution_count": 17,
                    "metadata": {},
                    "output_type": "execute_result"
                }
            ],
            "source": "#missing data\ntotal = dataset.isnull().sum().sort_values(ascending=False)\npercent = (dataset.isnull().sum()/dataset.isnull().count()).sort_values(ascending=False)\nmissing_data = pd.concat([total, percent], axis=1, keys=['Total', 'Percent'])\nmissing_data"
        },
        {
            "cell_type": "markdown",
            "metadata": {},
            "source": "There are no missing values in the dataset"
        },
        {
            "cell_type": "markdown",
            "metadata": {},
            "source": "## Investigative Visualization\n\n### QUESTION 5\n\nCome up with one or more plots that investigate the central question... Are the groups comprised in a fair way?"
        },
        {
            "cell_type": "markdown",
            "metadata": {},
            "source": "Plot the average past performance per group"
        },
        {
            "cell_type": "code",
            "execution_count": 18,
            "metadata": {},
            "outputs": [
                {
                    "data": {
                        "image/png": "[encoded data removed]",
                        "text/plain": "<Figure size 1008x432 with 1 Axes>"
                    },
                    "metadata": {
                        "needs_background": "light"
                    },
                    "output_type": "display_data"
                }
            ],
            "source": "fig = plt.figure(figsize=(14,6))\nax1 = fig.add_subplot(121)\n\ntable = pd.pivot_table(dataset, index = ['group'], values = 'past_performance', aggfunc=\"mean\")\ntable.plot(kind='bar', ax=ax1, rot=0)\nax1.set_xlabel(\"Group\")\nax1.set_ylabel(\"Past Performance\")\nax1.title.set_text(\"Average Past Performance per Group\")"
        },
        {
            "cell_type": "markdown",
            "metadata": {},
            "source": "Plot the past performance std within each group"
        },
        {
            "cell_type": "code",
            "execution_count": 19,
            "metadata": {},
            "outputs": [
                {
                    "data": {
                        "image/png": "[encoded data removed]",
                        "text/plain": "<Figure size 1008x432 with 1 Axes>"
                    },
                    "metadata": {
                        "needs_background": "light"
                    },
                    "output_type": "display_data"
                }
            ],
            "source": "fig = plt.figure(figsize=(14,6))\nax1 = fig.add_subplot(121)\n\ntable = pd.pivot_table(dataset, index = ['group'], values = 'past_performance', aggfunc=\"std\")\ntable.plot(kind='bar', ax=ax1, rot=0)\nax1.set_xlabel(\"Group\")\nax1.set_ylabel(\"Past Performance\")\nax1.title.set_text(\"Std Past Performance per Group\")"
        },
        {
            "cell_type": "code",
            "execution_count": 20,
            "metadata": {},
            "outputs": [
                {
                    "data": {
                        "image/png": "[encoded data removed]",
                        "text/plain": "<Figure size 576x432 with 1 Axes>"
                    },
                    "metadata": {
                        "needs_background": "light"
                    },
                    "output_type": "display_data"
                }
            ],
            "source": "import seaborn as sns\n\nfig = plt.figure(figsize=(8,6))\nax1 = fig.add_subplot(111)\nsns.scatterplot(x=\"current_fifa_rank\", y=\"past_performance\", hue=\"group\", data=dataset, ax=ax1)\n\nax1.set_xlabel(\"FIFA current Rank\")\nax1.set_ylabel(\"Past Performance\")\nax1.title.set_text(\"Rank vs Past Performance\")"
        },
        {
            "cell_type": "markdown",
            "metadata": {},
            "source": "## Hypothesis Testing\n\nThere are a number of ways to use hypothesis testing in this situation.  There are certainly reasonable hypotheses tests and other methods like simulation approaches, that we have not discussed, but they would be appropriate here.  If you choose to explore some of the methods that are outside the scope of this course then we encourage you to first try the simple approach proposed here and compare the results to any further additional approaches you choose to use.\n\nWe could use an ANOVA approach here that would signify a difference between groups, but we would not know which and how many teams were different.  As we stated before there are a number of ways to approach the investigation, but lets use a simple approach.  We are going to setup our investigation to look at all pairwise comparisons to provide as much insight as possible.\n\nRecall that there are $\\frac{(N-1)(N)}{2}$ pairwise comparisons."
        },
        {
            "cell_type": "code",
            "execution_count": 21,
            "metadata": {},
            "outputs": [
                {
                    "name": "stdout",
                    "output_type": "stream",
                    "text": "num comparisons:  28.0\n"
                }
            ],
            "source": "N = np.unique(df['group'].values).size\nprint(\"num comparisons: \",((N-1)*N) / 2.0)"
        },
        {
            "cell_type": "markdown",
            "metadata": {},
            "source": "### QUESTION 5\n\n\n1. Choose a hypothesis test\n2. State the null and alternative hypothesis, and choose a cutoff value $\\alpha$\n3. Run the test for all pairwise comparisons between teams"
        },
        {
            "cell_type": "markdown",
            "metadata": {},
            "source": "YOUR ANSWER HERE"
        },
        {
            "cell_type": "markdown",
            "metadata": {},
            "source": "**Hypothesis Testing**\n\n1. Pose the **question**: *Are the groups comprised in a fair way?*\n2. Find the relevant **population**: *The population consists of the feature values for the teams in the groups*\n3. Specify a **null hypothesis**: *There is no difference, on average, between the way groups are comprised*\n4. Select the **test** and the **significance level**: We want to distinguish between the groups, that is the data fall into many categories and you want to establish whether there is a difference in outcomes based on those categories. **ANOVA** would be more appropriate here with **$\\alpha= 0.05$**.\n"
        },
        {
            "cell_type": "markdown",
            "metadata": {},
            "source": "If the p-value is less than 0.05, we reject the null hypothesis "
        },
        {
            "cell_type": "code",
            "execution_count": 22,
            "metadata": {},
            "outputs": [
                {
                    "name": "stdout",
                    "output_type": "stream",
                    "text": "The global mean previous_appearances is: 7.91\nANOVA p-value 0.3586\nThe global mean previous_titles is: 0.5\nANOVA p-value 0.8674\nThe global mean previous_finals is: 0.84\nANOVA p-value 0.7593\nThe global mean previous_semifinals is: 1.78\nANOVA p-value 0.6492\nThe global mean current_fifa_rank is: 24.78\nANOVA p-value 0.639\nThe global mean past_performance is: 29.78\nANOVA p-value 0.7362\n"
                },
                {
                    "data": {
                        "text/plain": "[0.35861196706544474,\n 0.8673719928408031,\n 0.7593046691402086,\n 0.6491930573823975,\n 0.6390161653805875,\n 0.736184537526492]"
                    },
                    "execution_count": 22,
                    "metadata": {},
                    "output_type": "execute_result"
                }
            ],
            "source": "import numpy as np\nfrom scipy import stats\n\ndef calculate_pvalue(df, feature):\n    \n    n_groups = 8\n    n_teams_in_group = 4\n\n    values = df[feature].values.reshape(n_groups, n_teams_in_group)\n    \n    global_mean = values.mean()\n    print(\"The global mean {} is: {}\".format(feature, np.round(global_mean, decimals=2)))\n    \n    test_statistic, pvalue = stats.f_oneway(*values)\n    print(\"ANOVA p-value {}\".format(np.round(pvalue, decimals=4)))\n    \n    return pvalue\n\npvals = []\nfor feature in [\"previous_appearances\", \"previous_titles\", \"previous_finals\", \"previous_semifinals\", \"current_fifa_rank\", \"past_performance\"]:\n    pvals.append(calculate_pvalue(dataset, feature))\n    \npvals"
        },
        {
            "cell_type": "markdown",
            "metadata": {},
            "source": "In this case, the p-value is higher than 0.05 and thus we accept the null hypothesis"
        },
        {
            "cell_type": "markdown",
            "metadata": {},
            "source": "Calculate p-value on different features"
        },
        {
            "cell_type": "markdown",
            "metadata": {},
            "source": "### QUESTION 6\n\nFor all of the $p$-values obtained apply the Bonferroni and at least one other correction for multiple hypothesis tests.  Then comment on the results."
        },
        {
            "cell_type": "code",
            "execution_count": 23,
            "metadata": {},
            "outputs": [
                {
                    "name": "stdout",
                    "output_type": "stream",
                    "text": "0.3586 1.0 0.8674\n0.8674 1.0 0.8674\n0.7593 1.0 0.8674\n0.6492 1.0 0.8674\n0.639 1.0 0.8674\n0.7362 1.0 0.8674\n"
                }
            ],
            "source": "import numpy as np\nfrom statsmodels.stats.multitest import multipletests\n\n_results = multipletests(pvals, alpha=0.05, method='bonferroni', is_sorted=False, returnsorted=False)\nrejected_bonferroni, adjusted_bonferroni = _results[0],_results[1]\n\n_results = multipletests(pvals, alpha=0.05, method='fdr_bh', is_sorted=False, returnsorted=False)\nrejected_bh,adjusted_bh = _results[0],_results[1]\n\nfor p, pval in enumerate(pvals):\n     print(round(pval, 4),round(adjusted_bonferroni[p],4), round(adjusted_bh[p], 4))"
        },
        {
            "cell_type": "code",
            "execution_count": 24,
            "metadata": {},
            "outputs": [
                {
                    "data": {
                        "text/plain": "0.34647434249300585"
                    },
                    "execution_count": 24,
                    "metadata": {},
                    "output_type": "execute_result"
                }
            ],
            "source": "from scipy.stats import binom\n\nbinom.cdf(2701, 108879, 0.025)"
        },
        {
            "cell_type": "markdown",
            "metadata": {},
            "source": "We accept the Null Hypothesis and can argue that the groups are comprised in a fair way."
        },
        {
            "cell_type": "markdown",
            "metadata": {},
            "source": "## Additional Approaches \n\nThere is an [allpairtest function in statsmodels](http://www.statsmodels.org/devel/generated/generated/statsmodels.sandbox.stats.multicomp.MultiComparison.allpairtest.html#statsmodels.sandbox.stats.multicomp.MultiComparison.allpairtest) that could be used here to combine the work from QUESTION 5 and QUESTION 6.\n\nGeneralized Linear Models (GLMs) are an appropriate tool to use here if we wanted to include the results of the tournament (maybe a ratio of wins/losses weighted by the final position in the tournament).  `statsmodels` supports [R-style formulas to fit generalized linear models](https://www.statsmodels.org/stable/examples/notebooks/generated/glm_formula.html). One additional variant of GLMs are hierarchical or multilevel models that provide even more insight into this types of dataset.  See the [tutorial on multilevel modeling](https://docs.pymc.io/notebooks/multilevel_modeling.html)."
        },
        {
            "cell_type": "code",
            "execution_count": null,
            "metadata": {},
            "outputs": [],
            "source": ""
        }
    ],
    "metadata": {
        "kernelspec": {
            "display_name": "Python 3.6",
            "language": "python",
            "name": "python3"
        },
        "language_info": {
            "codemirror_mode": {
                "name": "ipython",
                "version": 3
            },
            "file_extension": ".py",
            "mimetype": "text/x-python",
            "name": "python",
            "nbconvert_exporter": "python",
            "pygments_lexer": "ipython3",
            "version": "3.6.9"
        }
    },
    "nbformat": 4,
    "nbformat_minor": 4
}