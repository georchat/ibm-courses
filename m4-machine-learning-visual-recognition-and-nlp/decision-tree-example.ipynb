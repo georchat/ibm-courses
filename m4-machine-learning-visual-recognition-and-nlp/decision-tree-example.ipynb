{
    "cells": [
        {
            "cell_type": "markdown",
            "metadata": {},
            "source": "# Make the Notebook run in IBM Watson"
        },
        {
            "cell_type": "code",
            "execution_count": 1,
            "metadata": {},
            "outputs": [],
            "source": "# The code was removed by Watson Studio for sharing."
        },
        {
            "cell_type": "code",
            "execution_count": 2,
            "metadata": {},
            "outputs": [],
            "source": "# START CODE BLOCK\n# cos2file - takes an object from Cloud Object Storage and writes it to file on container file system.\n# Uses the IBM project_lib library.\n# See https://dataplatform.cloud.ibm.com/docs/content/wsj/analyze-data/project-lib-python.html\n# Arguments:\n# p: project object defined in project token\n# data_path: the directory to write the file\n# filename: name of the file in COS\n\nimport os\ndef cos2file(p,data_path,filename):\n    data_dir = p.project_context.home + data_path\n    if not os.path.exists(data_dir):\n        os.makedirs(data_dir)\n    open( data_dir + '/' + filename, 'wb').write(p.get_file(filename).read())\n\n# file2cos - takes file on container file system and writes it to an object in Cloud Object Storage.\n# Uses the IBM project_lib library.\n# See https://dataplatform.cloud.ibm.com/docs/content/wsj/analyze-data/project-lib-python.html\n# Arguments:\n# p: prooject object defined in project token\n# data_path: the directory to read the file from\n# filename: name of the file on container file system\n\nimport os\ndef file2cos(p,data_path,filename):\n    data_dir = p.project_context.home + data_path\n    path_to_file = data_dir + '/' + filename\n    if os.path.exists(path_to_file):\n        file_object = open(path_to_file, 'rb')\n        p.save_data(filename, file_object, set_project_asset=True, overwrite=True)\n    else:\n        print(\"file2cos error: File not found\")\n# END CODE BLOCK"
        },
        {
            "cell_type": "code",
            "execution_count": 3,
            "metadata": {},
            "outputs": [],
            "source": "cos2file(project, '/data', 'aavail-target.csv')"
        },
        {
            "cell_type": "markdown",
            "metadata": {
                "collapsed": true
            },
            "source": "# Decision Trees"
        },
        {
            "cell_type": "markdown",
            "metadata": {},
            "source": "Decision trees are a simple, intuitive approach to regression and classification. As long as the trees are reasonably sized, they are easy to interpret and visualize, which means that they can serve as an important communication tool. For example, if we wanted a very interpretable model, we could use a decision tree to first partition our data. Then we could use different models for each leaf node. Let's see how a simple decision tree does with the AAVAIL customer retention data."
        },
        {
            "cell_type": "code",
            "execution_count": 4,
            "metadata": {},
            "outputs": [],
            "source": "#!pip install -U scikit-learn"
        },
        {
            "cell_type": "code",
            "execution_count": 5,
            "metadata": {},
            "outputs": [],
            "source": "import sys\nimport os\nimport re\nimport numpy as np\nimport pandas as pd\nfrom sklearn.impute import SimpleImputer\nfrom sklearn.metrics import classification_report\nfrom sklearn.preprocessing import StandardScaler, OneHotEncoder\nfrom sklearn.compose import ColumnTransformer\nfrom sklearn.model_selection import train_test_split\nfrom sklearn.tree import DecisionTreeClassifier, export_graphviz, plot_tree\nfrom sklearn.pipeline import Pipeline"
        },
        {
            "cell_type": "code",
            "execution_count": 6,
            "metadata": {},
            "outputs": [
                {
                    "data": {
                        "text/plain": "'0.22.2.post1'"
                    },
                    "execution_count": 6,
                    "metadata": {},
                    "output_type": "execute_result"
                }
            ],
            "source": "from sklearn import __version__\n__version__"
        },
        {
            "cell_type": "code",
            "execution_count": 7,
            "metadata": {},
            "outputs": [],
            "source": "def load_data():\n\n    data_dir = os.path.join(\"..\",\"data\")\n    df = pd.read_csv(os.path.join(data_dir,r\"aavail-target.csv\"))\n\n    ## pull out the target and remove uneeded columns\n    _y = df.pop('is_subscriber')\n    y = np.zeros(_y.size)\n    y[_y==0] = 1 \n    df.drop(columns=['customer_id','customer_name'],inplace=True)\n    return(y,df)"
        },
        {
            "cell_type": "code",
            "execution_count": 8,
            "metadata": {},
            "outputs": [],
            "source": "## variables\nrs = 42\n\n## preprocessing pipeline\nnumeric_features = ['age', 'num_streams']\nnumeric_transformer = Pipeline(steps=[\n    ('imputer', SimpleImputer(strategy='mean')),\n    ('scaler', StandardScaler())])\n\ncategorical_features = ['country', 'subscriber_type']\ncategorical_transformer = Pipeline(steps=[\n    ('imputer', SimpleImputer(strategy='constant', fill_value='missing')),\n    ('onehot', OneHotEncoder(handle_unknown='ignore'))])\n\npreprocessor = ColumnTransformer(\n    transformers=[\n        ('num', numeric_transformer, numeric_features),\n        ('cat', categorical_transformer, categorical_features)])"
        },
        {
            "cell_type": "code",
            "execution_count": 9,
            "metadata": {},
            "outputs": [],
            "source": "## load the data\ny, df = load_data()\nX_train, X_test, y_train, y_test = train_test_split(df, y,\n                                                    test_size=0.2, stratify=y, random_state=rs)"
        },
        {
            "cell_type": "code",
            "execution_count": 10,
            "metadata": {},
            "outputs": [],
            "source": "pipe  = Pipeline(steps=[('preprocessor', preprocessor),\n                        ('dt', DecisionTreeClassifier(min_samples_leaf=100))])\n\npipe.fit(X_train, y_train)\ny_pred = pipe.predict(X_test)"
        },
        {
            "cell_type": "code",
            "execution_count": 11,
            "metadata": {},
            "outputs": [
                {
                    "name": "stdout",
                    "output_type": "stream",
                    "text": "['age', 'num_streams', 'singapore', 'united_states', 'aavail_basic', 'aavail_premium', 'aavail_unlimited']\n              precision    recall  f1-score   support\n\n  subscriber       0.83      0.91      0.87       142\n     churned       0.71      0.55      0.62        58\n\n    accuracy                           0.81       200\n   macro avg       0.77      0.73      0.75       200\nweighted avg       0.80      0.81      0.80       200\n\n"
                }
            ],
            "source": " ## extract feature names \nfeature_names = np.hstack([numeric_features,\n                           preprocessor.transformers_[1][1].named_steps['onehot'].get_feature_names()])\n\nfeature_names = [re.sub(\"x\\d_\",\"\",fn) for fn in feature_names]\ntarget_names = ['subscriber','churned']\nprint(feature_names)\nprint(classification_report(y_test, y_pred, target_names=target_names))"
        },
        {
            "cell_type": "code",
            "execution_count": 12,
            "metadata": {},
            "outputs": [
                {
                    "name": "stdout",
                    "output_type": "stream",
                    "text": "Requirement already satisfied: graphviz in /opt/conda/envs/Python36/lib/python3.6/site-packages (0.13.2)\r\n"
                }
            ],
            "source": "!pip install graphviz"
        },
        {
            "cell_type": "code",
            "execution_count": 13,
            "metadata": {},
            "outputs": [
                {
                    "name": "stdout",
                    "output_type": "stream",
                    "text": "...images directory exists\n"
                }
            ],
            "source": "def create_images_dir(p, images_path):\n    images_dir = p.project_context.home + images_path\n    if not os.path.exists(images_dir):\n        print(\"...create images directory\")\n        os.makedirs(images_dir)\n    else:\n        print(\"...images directory exists\")\n        \ncreate_images_dir(project, \"/images\")"
        },
        {
            "cell_type": "code",
            "execution_count": 14,
            "metadata": {},
            "outputs": [
                {
                    "data": {
                        "image/svg+xml": "<?xml version=\"1.0\" encoding=\"UTF-8\" standalone=\"no\"?>\n<!DOCTYPE svg PUBLIC \"-//W3C//DTD SVG 1.1//EN\"\n \"http://www.w3.org/Graphics/SVG/1.1/DTD/svg11.dtd\">\n<!-- Generated by graphviz version 2.40.1 (20161225.0304)\n -->\n<!-- Title: Tree Pages: 1 -->\n<svg width=\"827pt\" height=\"433pt\"\n viewBox=\"0.00 0.00 827.00 433.00\" xmlns=\"http://www.w3.org/2000/svg\" xmlns:xlink=\"http://www.w3.org/1999/xlink\">\n<g id=\"graph0\" class=\"graph\" transform=\"scale(1 1) rotate(0) translate(4 429)\">\n<title>Tree</title>\n<polygon fill=\"#ffffff\" stroke=\"transparent\" points=\"-4,4 -4,-429 823,-429 823,4 -4,4\"/>\n<!-- 0 -->\n<g id=\"node1\" class=\"node\">\n<title>0</title>\n<path fill=\"#f0b489\" stroke=\"#000000\" d=\"M384.5,-425C384.5,-425 252.5,-425 252.5,-425 246.5,-425 240.5,-419 240.5,-413 240.5,-413 240.5,-354 240.5,-354 240.5,-348 246.5,-342 252.5,-342 252.5,-342 384.5,-342 384.5,-342 390.5,-342 396.5,-348 396.5,-354 396.5,-354 396.5,-413 396.5,-413 396.5,-419 390.5,-425 384.5,-425\"/>\n<text text-anchor=\"start\" x=\"248.5\" y=\"-409.8\" font-family=\"Helvetica,sans-Serif\" font-size=\"14.00\" fill=\"#000000\">united_states \u2264 0.5</text>\n<text text-anchor=\"start\" x=\"274.5\" y=\"-394.8\" font-family=\"Helvetica,sans-Serif\" font-size=\"14.00\" fill=\"#000000\">gini = 0.411</text>\n<text text-anchor=\"start\" x=\"264\" y=\"-379.8\" font-family=\"Helvetica,sans-Serif\" font-size=\"14.00\" fill=\"#000000\">samples = 800</text>\n<text text-anchor=\"start\" x=\"251.5\" y=\"-364.8\" font-family=\"Helvetica,sans-Serif\" font-size=\"14.00\" fill=\"#000000\">value = [569, 231]</text>\n<text text-anchor=\"start\" x=\"253\" y=\"-349.8\" font-family=\"Helvetica,sans-Serif\" font-size=\"14.00\" fill=\"#000000\">class = subscriber</text>\n</g>\n<!-- 1 -->\n<g id=\"node2\" class=\"node\">\n<title>1</title>\n<path fill=\"#bddef6\" stroke=\"#000000\" d=\"M290,-306C290,-306 167,-306 167,-306 161,-306 155,-300 155,-294 155,-294 155,-235 155,-235 155,-229 161,-223 167,-223 167,-223 290,-223 290,-223 296,-223 302,-229 302,-235 302,-235 302,-294 302,-294 302,-300 296,-306 290,-306\"/>\n<text text-anchor=\"start\" x=\"163\" y=\"-290.8\" font-family=\"Helvetica,sans-Serif\" font-size=\"14.00\" fill=\"#000000\">aavail_basic \u2264 0.5</text>\n<text text-anchor=\"start\" x=\"189\" y=\"-275.8\" font-family=\"Helvetica,sans-Serif\" font-size=\"14.00\" fill=\"#000000\">gini = 0.48</text>\n<text text-anchor=\"start\" x=\"174\" y=\"-260.8\" font-family=\"Helvetica,sans-Serif\" font-size=\"14.00\" fill=\"#000000\">samples = 235</text>\n<text text-anchor=\"start\" x=\"166\" y=\"-245.8\" font-family=\"Helvetica,sans-Serif\" font-size=\"14.00\" fill=\"#000000\">value = [94, 141]</text>\n<text text-anchor=\"start\" x=\"171\" y=\"-230.8\" font-family=\"Helvetica,sans-Serif\" font-size=\"14.00\" fill=\"#000000\">class = churned</text>\n</g>\n<!-- 0&#45;&gt;1 -->\n<g id=\"edge1\" class=\"edge\">\n<title>0&#45;&gt;1</title>\n<path fill=\"none\" stroke=\"#000000\" d=\"M287.0224,-341.8796C280.3471,-333.0534 273.2342,-323.6485 266.3504,-314.5466\"/>\n<polygon fill=\"#000000\" stroke=\"#000000\" points=\"268.9357,-312.1626 260.112,-306.2981 263.3526,-316.3852 268.9357,-312.1626\"/>\n<text text-anchor=\"middle\" x=\"256.676\" y=\"-327.3608\" font-family=\"Helvetica,sans-Serif\" font-size=\"14.00\" fill=\"#000000\">True</text>\n</g>\n<!-- 4 -->\n<g id=\"node5\" class=\"node\">\n<title>4</title>\n<path fill=\"#ea995f\" stroke=\"#000000\" d=\"M484.5,-306C484.5,-306 332.5,-306 332.5,-306 326.5,-306 320.5,-300 320.5,-294 320.5,-294 320.5,-235 320.5,-235 320.5,-229 326.5,-223 332.5,-223 332.5,-223 484.5,-223 484.5,-223 490.5,-223 496.5,-229 496.5,-235 496.5,-235 496.5,-294 496.5,-294 496.5,-300 490.5,-306 484.5,-306\"/>\n<text text-anchor=\"start\" x=\"328.5\" y=\"-290.8\" font-family=\"Helvetica,sans-Serif\" font-size=\"14.00\" fill=\"#000000\">num_streams \u2264 0.368</text>\n<text text-anchor=\"start\" x=\"364.5\" y=\"-275.8\" font-family=\"Helvetica,sans-Serif\" font-size=\"14.00\" fill=\"#000000\">gini = 0.268</text>\n<text text-anchor=\"start\" x=\"354\" y=\"-260.8\" font-family=\"Helvetica,sans-Serif\" font-size=\"14.00\" fill=\"#000000\">samples = 565</text>\n<text text-anchor=\"start\" x=\"346\" y=\"-245.8\" font-family=\"Helvetica,sans-Serif\" font-size=\"14.00\" fill=\"#000000\">value = [475, 90]</text>\n<text text-anchor=\"start\" x=\"343\" y=\"-230.8\" font-family=\"Helvetica,sans-Serif\" font-size=\"14.00\" fill=\"#000000\">class = subscriber</text>\n</g>\n<!-- 0&#45;&gt;4 -->\n<g id=\"edge4\" class=\"edge\">\n<title>0&#45;&gt;4</title>\n<path fill=\"none\" stroke=\"#000000\" d=\"M349.9776,-341.8796C356.6529,-333.0534 363.7658,-323.6485 370.6496,-314.5466\"/>\n<polygon fill=\"#000000\" stroke=\"#000000\" points=\"373.6474,-316.3852 376.888,-306.2981 368.0643,-312.1626 373.6474,-316.3852\"/>\n<text text-anchor=\"middle\" x=\"380.324\" y=\"-327.3608\" font-family=\"Helvetica,sans-Serif\" font-size=\"14.00\" fill=\"#000000\">False</text>\n</g>\n<!-- 2 -->\n<g id=\"node3\" class=\"node\">\n<title>2</title>\n<path fill=\"#7cbeee\" stroke=\"#000000\" d=\"M129,-179.5C129,-179.5 12,-179.5 12,-179.5 6,-179.5 0,-173.5 0,-167.5 0,-167.5 0,-123.5 0,-123.5 0,-117.5 6,-111.5 12,-111.5 12,-111.5 129,-111.5 129,-111.5 135,-111.5 141,-117.5 141,-123.5 141,-123.5 141,-167.5 141,-167.5 141,-173.5 135,-179.5 129,-179.5\"/>\n<text text-anchor=\"start\" x=\"26.5\" y=\"-164.3\" font-family=\"Helvetica,sans-Serif\" font-size=\"14.00\" fill=\"#000000\">gini = 0.377</text>\n<text text-anchor=\"start\" x=\"16\" y=\"-149.3\" font-family=\"Helvetica,sans-Serif\" font-size=\"14.00\" fill=\"#000000\">samples = 135</text>\n<text text-anchor=\"start\" x=\"8\" y=\"-134.3\" font-family=\"Helvetica,sans-Serif\" font-size=\"14.00\" fill=\"#000000\">value = [34, 101]</text>\n<text text-anchor=\"start\" x=\"13\" y=\"-119.3\" font-family=\"Helvetica,sans-Serif\" font-size=\"14.00\" fill=\"#000000\">class = churned</text>\n</g>\n<!-- 1&#45;&gt;2 -->\n<g id=\"edge2\" class=\"edge\">\n<title>1&#45;&gt;2</title>\n<path fill=\"none\" stroke=\"#000000\" d=\"M173.2393,-222.8796C157.2497,-210.8368 139.8297,-197.7167 123.9526,-185.7586\"/>\n<polygon fill=\"#000000\" stroke=\"#000000\" points=\"125.8998,-182.8435 115.8062,-179.623 121.6884,-188.435 125.8998,-182.8435\"/>\n</g>\n<!-- 3 -->\n<g id=\"node4\" class=\"node\">\n<title>3</title>\n<path fill=\"#f6d5bd\" stroke=\"#000000\" d=\"M294,-179.5C294,-179.5 171,-179.5 171,-179.5 165,-179.5 159,-173.5 159,-167.5 159,-167.5 159,-123.5 159,-123.5 159,-117.5 165,-111.5 171,-111.5 171,-111.5 294,-111.5 294,-111.5 300,-111.5 306,-117.5 306,-123.5 306,-123.5 306,-167.5 306,-167.5 306,-173.5 300,-179.5 294,-179.5\"/>\n<text text-anchor=\"start\" x=\"193\" y=\"-164.3\" font-family=\"Helvetica,sans-Serif\" font-size=\"14.00\" fill=\"#000000\">gini = 0.48</text>\n<text text-anchor=\"start\" x=\"178\" y=\"-149.3\" font-family=\"Helvetica,sans-Serif\" font-size=\"14.00\" fill=\"#000000\">samples = 100</text>\n<text text-anchor=\"start\" x=\"174.5\" y=\"-134.3\" font-family=\"Helvetica,sans-Serif\" font-size=\"14.00\" fill=\"#000000\">value = [60, 40]</text>\n<text text-anchor=\"start\" x=\"167\" y=\"-119.3\" font-family=\"Helvetica,sans-Serif\" font-size=\"14.00\" fill=\"#000000\">class = subscriber</text>\n</g>\n<!-- 1&#45;&gt;3 -->\n<g id=\"edge3\" class=\"edge\">\n<title>1&#45;&gt;3</title>\n<path fill=\"none\" stroke=\"#000000\" d=\"M229.899,-222.8796C230.2575,-212.2134 230.6445,-200.7021 231.0075,-189.9015\"/>\n<polygon fill=\"#000000\" stroke=\"#000000\" points=\"234.5085,-189.9269 231.3466,-179.8149 227.5125,-189.6917 234.5085,-189.9269\"/>\n</g>\n<!-- 5 -->\n<g id=\"node6\" class=\"node\">\n<title>5</title>\n<path fill=\"#e89253\" stroke=\"#000000\" d=\"M466,-187C466,-187 343,-187 343,-187 337,-187 331,-181 331,-175 331,-175 331,-116 331,-116 331,-110 337,-104 343,-104 343,-104 466,-104 466,-104 472,-104 478,-110 478,-116 478,-116 478,-175 478,-175 478,-181 472,-187 466,-187\"/>\n<text text-anchor=\"start\" x=\"357.5\" y=\"-171.8\" font-family=\"Helvetica,sans-Serif\" font-size=\"14.00\" fill=\"#000000\">age \u2264 &#45;0.221</text>\n<text text-anchor=\"start\" x=\"360.5\" y=\"-156.8\" font-family=\"Helvetica,sans-Serif\" font-size=\"14.00\" fill=\"#000000\">gini = 0.206</text>\n<text text-anchor=\"start\" x=\"350\" y=\"-141.8\" font-family=\"Helvetica,sans-Serif\" font-size=\"14.00\" fill=\"#000000\">samples = 275</text>\n<text text-anchor=\"start\" x=\"342\" y=\"-126.8\" font-family=\"Helvetica,sans-Serif\" font-size=\"14.00\" fill=\"#000000\">value = [243, 32]</text>\n<text text-anchor=\"start\" x=\"339\" y=\"-111.8\" font-family=\"Helvetica,sans-Serif\" font-size=\"14.00\" fill=\"#000000\">class = subscriber</text>\n</g>\n<!-- 4&#45;&gt;5 -->\n<g id=\"edge5\" class=\"edge\">\n<title>4&#45;&gt;5</title>\n<path fill=\"none\" stroke=\"#000000\" d=\"M407.101,-222.8796C406.8255,-214.6838 406.5332,-205.9891 406.2479,-197.5013\"/>\n<polygon fill=\"#000000\" stroke=\"#000000\" points=\"409.739,-197.1748 405.905,-187.2981 402.743,-197.41 409.739,-197.1748\"/>\n</g>\n<!-- 8 -->\n<g id=\"node9\" class=\"node\">\n<title>8</title>\n<path fill=\"#eca06a\" stroke=\"#000000\" d=\"M660.5,-187C660.5,-187 508.5,-187 508.5,-187 502.5,-187 496.5,-181 496.5,-175 496.5,-175 496.5,-116 496.5,-116 496.5,-110 502.5,-104 508.5,-104 508.5,-104 660.5,-104 660.5,-104 666.5,-104 672.5,-110 672.5,-116 672.5,-116 672.5,-175 672.5,-175 672.5,-181 666.5,-187 660.5,-187\"/>\n<text text-anchor=\"start\" x=\"504.5\" y=\"-171.8\" font-family=\"Helvetica,sans-Serif\" font-size=\"14.00\" fill=\"#000000\">aavail_premium \u2264 0.5</text>\n<text text-anchor=\"start\" x=\"545\" y=\"-156.8\" font-family=\"Helvetica,sans-Serif\" font-size=\"14.00\" fill=\"#000000\">gini = 0.32</text>\n<text text-anchor=\"start\" x=\"530\" y=\"-141.8\" font-family=\"Helvetica,sans-Serif\" font-size=\"14.00\" fill=\"#000000\">samples = 290</text>\n<text text-anchor=\"start\" x=\"522\" y=\"-126.8\" font-family=\"Helvetica,sans-Serif\" font-size=\"14.00\" fill=\"#000000\">value = [232, 58]</text>\n<text text-anchor=\"start\" x=\"519\" y=\"-111.8\" font-family=\"Helvetica,sans-Serif\" font-size=\"14.00\" fill=\"#000000\">class = subscriber</text>\n</g>\n<!-- 4&#45;&gt;8 -->\n<g id=\"edge8\" class=\"edge\">\n<title>4&#45;&gt;8</title>\n<path fill=\"none\" stroke=\"#000000\" d=\"M470.0563,-222.8796C484.3918,-213.1868 499.7595,-202.7961 514.4325,-192.8752\"/>\n<polygon fill=\"#000000\" stroke=\"#000000\" points=\"516.6548,-195.5976 522.9785,-187.0969 512.7339,-189.7987 516.6548,-195.5976\"/>\n</g>\n<!-- 6 -->\n<g id=\"node7\" class=\"node\">\n<title>6</title>\n<path fill=\"#e99457\" stroke=\"#000000\" d=\"M305,-68C305,-68 182,-68 182,-68 176,-68 170,-62 170,-56 170,-56 170,-12 170,-12 170,-6 176,0 182,0 182,0 305,0 305,0 311,0 317,-6 317,-12 317,-12 317,-56 317,-56 317,-62 311,-68 305,-68\"/>\n<text text-anchor=\"start\" x=\"199.5\" y=\"-52.8\" font-family=\"Helvetica,sans-Serif\" font-size=\"14.00\" fill=\"#000000\">gini = 0.229</text>\n<text text-anchor=\"start\" x=\"189\" y=\"-37.8\" font-family=\"Helvetica,sans-Serif\" font-size=\"14.00\" fill=\"#000000\">samples = 106</text>\n<text text-anchor=\"start\" x=\"185.5\" y=\"-22.8\" font-family=\"Helvetica,sans-Serif\" font-size=\"14.00\" fill=\"#000000\">value = [92, 14]</text>\n<text text-anchor=\"start\" x=\"178\" y=\"-7.8\" font-family=\"Helvetica,sans-Serif\" font-size=\"14.00\" fill=\"#000000\">class = subscriber</text>\n</g>\n<!-- 5&#45;&gt;6 -->\n<g id=\"edge6\" class=\"edge\">\n<title>5&#45;&gt;6</title>\n<path fill=\"none\" stroke=\"#000000\" d=\"M344.5495,-103.9815C330.4084,-94.1881 315.3606,-83.7668 301.3159,-74.0402\"/>\n<polygon fill=\"#000000\" stroke=\"#000000\" points=\"302.9315,-70.9017 292.7178,-68.0856 298.9461,-76.6565 302.9315,-70.9017\"/>\n</g>\n<!-- 7 -->\n<g id=\"node8\" class=\"node\">\n<title>7</title>\n<path fill=\"#e89051\" stroke=\"#000000\" d=\"M470,-68C470,-68 347,-68 347,-68 341,-68 335,-62 335,-56 335,-56 335,-12 335,-12 335,-6 341,0 347,0 347,0 470,0 470,0 476,0 482,-6 482,-12 482,-12 482,-56 482,-56 482,-62 476,-68 470,-68\"/>\n<text text-anchor=\"start\" x=\"369\" y=\"-52.8\" font-family=\"Helvetica,sans-Serif\" font-size=\"14.00\" fill=\"#000000\">gini = 0.19</text>\n<text text-anchor=\"start\" x=\"354\" y=\"-37.8\" font-family=\"Helvetica,sans-Serif\" font-size=\"14.00\" fill=\"#000000\">samples = 169</text>\n<text text-anchor=\"start\" x=\"346\" y=\"-22.8\" font-family=\"Helvetica,sans-Serif\" font-size=\"14.00\" fill=\"#000000\">value = [151, 18]</text>\n<text text-anchor=\"start\" x=\"343\" y=\"-7.8\" font-family=\"Helvetica,sans-Serif\" font-size=\"14.00\" fill=\"#000000\">class = subscriber</text>\n</g>\n<!-- 5&#45;&gt;7 -->\n<g id=\"edge7\" class=\"edge\">\n<title>5&#45;&gt;7</title>\n<path fill=\"none\" stroke=\"#000000\" d=\"M405.9895,-103.9815C406.2895,-95.618 406.606,-86.7965 406.9093,-78.3409\"/>\n<polygon fill=\"#000000\" stroke=\"#000000\" points=\"410.41,-78.3828 407.2708,-68.2637 403.4145,-78.1317 410.41,-78.3828\"/>\n</g>\n<!-- 9 -->\n<g id=\"node10\" class=\"node\">\n<title>9</title>\n<path fill=\"#eb9c64\" stroke=\"#000000\" d=\"M642,-68C642,-68 519,-68 519,-68 513,-68 507,-62 507,-56 507,-56 507,-12 507,-12 507,-6 513,0 519,0 519,0 642,0 642,0 648,0 654,-6 654,-12 654,-12 654,-56 654,-56 654,-62 648,-68 642,-68\"/>\n<text text-anchor=\"start\" x=\"536.5\" y=\"-52.8\" font-family=\"Helvetica,sans-Serif\" font-size=\"14.00\" fill=\"#000000\">gini = 0.294</text>\n<text text-anchor=\"start\" x=\"526\" y=\"-37.8\" font-family=\"Helvetica,sans-Serif\" font-size=\"14.00\" fill=\"#000000\">samples = 179</text>\n<text text-anchor=\"start\" x=\"518\" y=\"-22.8\" font-family=\"Helvetica,sans-Serif\" font-size=\"14.00\" fill=\"#000000\">value = [147, 32]</text>\n<text text-anchor=\"start\" x=\"515\" y=\"-7.8\" font-family=\"Helvetica,sans-Serif\" font-size=\"14.00\" fill=\"#000000\">class = subscriber</text>\n</g>\n<!-- 8&#45;&gt;9 -->\n<g id=\"edge9\" class=\"edge\">\n<title>8&#45;&gt;9</title>\n<path fill=\"none\" stroke=\"#000000\" d=\"M583.0105,-103.9815C582.7105,-95.618 582.394,-86.7965 582.0907,-78.3409\"/>\n<polygon fill=\"#000000\" stroke=\"#000000\" points=\"585.5855,-78.1317 581.7292,-68.2637 578.59,-78.3828 585.5855,-78.1317\"/>\n</g>\n<!-- 10 -->\n<g id=\"node11\" class=\"node\">\n<title>10</title>\n<path fill=\"#eda876\" stroke=\"#000000\" d=\"M807,-68C807,-68 684,-68 684,-68 678,-68 672,-62 672,-56 672,-56 672,-12 672,-12 672,-6 678,0 684,0 684,0 807,0 807,0 813,0 819,-6 819,-12 819,-12 819,-56 819,-56 819,-62 813,-68 807,-68\"/>\n<text text-anchor=\"start\" x=\"701.5\" y=\"-52.8\" font-family=\"Helvetica,sans-Serif\" font-size=\"14.00\" fill=\"#000000\">gini = 0.359</text>\n<text text-anchor=\"start\" x=\"691\" y=\"-37.8\" font-family=\"Helvetica,sans-Serif\" font-size=\"14.00\" fill=\"#000000\">samples = 111</text>\n<text text-anchor=\"start\" x=\"687.5\" y=\"-22.8\" font-family=\"Helvetica,sans-Serif\" font-size=\"14.00\" fill=\"#000000\">value = [85, 26]</text>\n<text text-anchor=\"start\" x=\"680\" y=\"-7.8\" font-family=\"Helvetica,sans-Serif\" font-size=\"14.00\" fill=\"#000000\">class = subscriber</text>\n</g>\n<!-- 8&#45;&gt;10 -->\n<g id=\"edge10\" class=\"edge\">\n<title>8&#45;&gt;10</title>\n<path fill=\"none\" stroke=\"#000000\" d=\"M644.4505,-103.9815C658.5916,-94.1881 673.6394,-83.7668 687.6841,-74.0402\"/>\n<polygon fill=\"#000000\" stroke=\"#000000\" points=\"690.0539,-76.6565 696.2822,-68.0856 686.0685,-70.9017 690.0539,-76.6565\"/>\n</g>\n</g>\n</svg>\n",
                        "text/plain": "<graphviz.files.Source at 0x7f5641303208>"
                    },
                    "execution_count": 14,
                    "metadata": {},
                    "output_type": "execute_result"
                }
            ],
            "source": "## make plot\ntry:\n    import graphviz        \nexcept:\n    print(\"not creating tree since graphviz is not installed\")\n    sys.exit()\n    \nfrom graphviz import Source\nfrom sklearn.tree import export_graphviz\n    \nimage_dir = os.path.join(\"..\",\"images\")\n    \ndot_data = export_graphviz(pipe['dt'], \n                           out_file=os.path.join(image_dir, \"iris_tree.dot\"), feature_names=feature_names,  \n                           class_names=target_names,  filled=True, rounded=True,  \n                           special_characters=True)\n\nSource.from_file(os.path.join(image_dir, \"iris_tree.dot\"))"
        },
        {
            "cell_type": "markdown",
            "metadata": {},
            "source": "It actually does reasonably well considering the simplicity of the model. Even if this is not a model that would go into production it could be used to inform strategic decision making. Notice how the model naturally identifies the largest subgroup of churned subscribers with only two splits."
        },
        {
            "cell_type": "markdown",
            "metadata": {},
            "source": "In the script above we used `min_sampled_leaf` to prevent the tree from overfitting. The `DecisionTreeClassifier` provides other parameters such as the `max_depth` that can be used. Cost complexity pruning provides another option to control the size of the tree."
        },
        {
            "cell_type": "code",
            "execution_count": null,
            "metadata": {},
            "outputs": [],
            "source": ""
        }
    ],
    "metadata": {
        "kernelspec": {
            "display_name": "Python 3.6",
            "language": "python",
            "name": "python3"
        },
        "language_info": {
            "codemirror_mode": {
                "name": "ipython",
                "version": 3
            },
            "file_extension": ".py",
            "mimetype": "text/x-python",
            "name": "python",
            "nbconvert_exporter": "python",
            "pygments_lexer": "ipython3",
            "version": "3.6.9"
        }
    },
    "nbformat": 4,
    "nbformat_minor": 1
}